{
 "cells": [
  {
   "cell_type": "code",
   "execution_count": 1933,
   "id": "bb8c5630-11b2-41b9-98a2-f67d6cebc323",
   "metadata": {
    "tags": []
   },
   "outputs": [],
   "source": [
    "import numpy as np\n",
    "import pandas as pd\n",
    "import matplotlib.pyplot as plt\n",
    "import string\n",
    "\n",
    "import re\n",
    "import nltk\n",
    "from nltk.corpus import stopwords\n",
    "from nltk.tokenize import word_tokenize\n",
    "from nltk.stem import WordNetLemmatizer\n",
    "from nltk.sentiment.vader import SentimentIntensityAnalyzer\n",
    "from collections import Counter\n",
    "\n",
    "from sklearn.feature_extraction.text import CountVectorizer\n",
    "from sklearn.feature_extraction.text import TfidfVectorizer\n",
    "from sklearn.naive_bayes import MultinomialNB\n",
    "from sklearn.metrics import accuracy_score\n",
    "\n",
    "from sklearn.model_selection import GridSearchCV\n",
    "from sklearn.model_selection import train_test_split\n",
    "from sklearn.linear_model import LogisticRegression\n",
    "from sklearn.pipeline import Pipeline\n",
    "\n",
    "\n",
    "from sklearn.metrics import accuracy_score, classification_report\n",
    "from sklearn.metrics import accuracy_score, classification_report\n",
    "from sklearn.metrics.pairwise import cosine_similarity\n",
    "from sklearn.decomposition import PCA\n",
    "from sklearn.decomposition import LatentDirichletAllocation\n",
    "from sklearn.preprocessing import MultiLabelBinarizer\n",
    "\n",
    "import seaborn as sns"
   ]
  },
  {
   "cell_type": "markdown",
   "id": "0375379c-19e4-4e50-9f63-5c74cf81ece5",
   "metadata": {},
   "source": [
    "# Working with Text Lab\n",
    "## Information retrieval, preprocessing, and feature extraction"
   ]
  },
  {
   "cell_type": "markdown",
   "id": "d92edf71-988c-4e95-b17f-987095e9246a",
   "metadata": {},
   "source": [
    "In this lab, you'll be looking at and exploring European restaurant reviews. The dataset is rather tiny, but that's just because it has to run on any machine. In real life, just like with images, texts can be several terabytes long.\n",
    "\n",
    "The dataset is located [here](https://www.kaggle.com/datasets/gorororororo23/european-restaurant-reviews) and as always, it's been provided to you in the `data/` folder."
   ]
  },
  {
   "cell_type": "markdown",
   "id": "888cf2cf-1cd7-4538-a7a2-462e80b1df99",
   "metadata": {},
   "source": [
    "### Problem 1. Read the dataset (1 point)\n",
    "Read the dataset, get acquainted with it. Ensure the data is valid before you proceed.\n",
    "\n",
    "How many observations are there? Which country is the most represented? What time range does the dataset represent?\n",
    "\n",
    "Is the sample balanced in terms of restaurants, i.e., do you have an equal number of reviews for each one? Most importantly, is the dataset balanced in terms of **sentiment**?"
   ]
  },
  {
   "cell_type": "code",
   "execution_count": 1619,
   "id": "596f1cf0-acfe-4e05-a953-6a2fc1ea2463",
   "metadata": {
    "tags": []
   },
   "outputs": [],
   "source": [
    "restaurant_data = pd.read_csv(\"data/European Restaurant Reviews.csv\")"
   ]
  },
  {
   "cell_type": "code",
   "execution_count": 1621,
   "id": "21c5c5e2-0a0b-4949-a3d2-e33c3f6c38a4",
   "metadata": {
    "tags": []
   },
   "outputs": [
    {
     "data": {
      "text/html": [
       "<div>\n",
       "<style scoped>\n",
       "    .dataframe tbody tr th:only-of-type {\n",
       "        vertical-align: middle;\n",
       "    }\n",
       "\n",
       "    .dataframe tbody tr th {\n",
       "        vertical-align: top;\n",
       "    }\n",
       "\n",
       "    .dataframe thead th {\n",
       "        text-align: right;\n",
       "    }\n",
       "</style>\n",
       "<table border=\"1\" class=\"dataframe\">\n",
       "  <thead>\n",
       "    <tr style=\"text-align: right;\">\n",
       "      <th></th>\n",
       "      <th>Country</th>\n",
       "      <th>Restaurant Name</th>\n",
       "      <th>Sentiment</th>\n",
       "      <th>Review Title</th>\n",
       "      <th>Review Date</th>\n",
       "      <th>Review</th>\n",
       "    </tr>\n",
       "  </thead>\n",
       "  <tbody>\n",
       "    <tr>\n",
       "      <th>0</th>\n",
       "      <td>France</td>\n",
       "      <td>The Frog at Bercy Village</td>\n",
       "      <td>Negative</td>\n",
       "      <td>Rude manager</td>\n",
       "      <td>May 2024 •</td>\n",
       "      <td>The manager became agressive when I said the c...</td>\n",
       "    </tr>\n",
       "    <tr>\n",
       "      <th>1</th>\n",
       "      <td>France</td>\n",
       "      <td>The Frog at Bercy Village</td>\n",
       "      <td>Negative</td>\n",
       "      <td>A big disappointment</td>\n",
       "      <td>Feb 2024 •</td>\n",
       "      <td>I ordered a beef fillet ask to be done medium,...</td>\n",
       "    </tr>\n",
       "    <tr>\n",
       "      <th>2</th>\n",
       "      <td>France</td>\n",
       "      <td>The Frog at Bercy Village</td>\n",
       "      <td>Negative</td>\n",
       "      <td>Pretty Place with Bland Food</td>\n",
       "      <td>Nov 2023 •</td>\n",
       "      <td>This is an attractive venue with welcoming, al...</td>\n",
       "    </tr>\n",
       "    <tr>\n",
       "      <th>3</th>\n",
       "      <td>France</td>\n",
       "      <td>The Frog at Bercy Village</td>\n",
       "      <td>Negative</td>\n",
       "      <td>Great service and wine but inedible food</td>\n",
       "      <td>Mar 2023 •</td>\n",
       "      <td>Sadly I  used the high TripAdvisor rating too ...</td>\n",
       "    </tr>\n",
       "    <tr>\n",
       "      <th>4</th>\n",
       "      <td>France</td>\n",
       "      <td>The Frog at Bercy Village</td>\n",
       "      <td>Negative</td>\n",
       "      <td>Avoid- Worst meal in Rome - possibly ever</td>\n",
       "      <td>Nov 2022 •</td>\n",
       "      <td>From the start this meal was bad- especially g...</td>\n",
       "    </tr>\n",
       "    <tr>\n",
       "      <th>...</th>\n",
       "      <td>...</td>\n",
       "      <td>...</td>\n",
       "      <td>...</td>\n",
       "      <td>...</td>\n",
       "      <td>...</td>\n",
       "      <td>...</td>\n",
       "    </tr>\n",
       "    <tr>\n",
       "      <th>1497</th>\n",
       "      <td>Cuba</td>\n",
       "      <td>Old Square (Plaza Vieja)</td>\n",
       "      <td>Negative</td>\n",
       "      <td>The Tourism Trap</td>\n",
       "      <td>Oct 2016 •</td>\n",
       "      <td>Despite the other reviews saying that this is ...</td>\n",
       "    </tr>\n",
       "    <tr>\n",
       "      <th>1498</th>\n",
       "      <td>Cuba</td>\n",
       "      <td>Old Square (Plaza Vieja)</td>\n",
       "      <td>Negative</td>\n",
       "      <td>the beer factory</td>\n",
       "      <td>Oct 2016 •</td>\n",
       "      <td>beer is good.  food is awfull  The only decent...</td>\n",
       "    </tr>\n",
       "    <tr>\n",
       "      <th>1499</th>\n",
       "      <td>Cuba</td>\n",
       "      <td>Old Square (Plaza Vieja)</td>\n",
       "      <td>Negative</td>\n",
       "      <td>brewery</td>\n",
       "      <td>Oct 2016 •</td>\n",
       "      <td>for terrible service of a truly comedic level,...</td>\n",
       "    </tr>\n",
       "    <tr>\n",
       "      <th>1500</th>\n",
       "      <td>Cuba</td>\n",
       "      <td>Old Square (Plaza Vieja)</td>\n",
       "      <td>Negative</td>\n",
       "      <td>It's nothing exciting over there</td>\n",
       "      <td>Oct 2016 •</td>\n",
       "      <td>We visited the Havana's Club Museum which is l...</td>\n",
       "    </tr>\n",
       "    <tr>\n",
       "      <th>1501</th>\n",
       "      <td>Cuba</td>\n",
       "      <td>Old Square (Plaza Vieja)</td>\n",
       "      <td>Negative</td>\n",
       "      <td>Tourist Trap</td>\n",
       "      <td>Oct 2016 •</td>\n",
       "      <td>Food and service was awful. Very pretty stop. ...</td>\n",
       "    </tr>\n",
       "  </tbody>\n",
       "</table>\n",
       "<p>1502 rows × 6 columns</p>\n",
       "</div>"
      ],
      "text/plain": [
       "     Country            Restaurant Name Sentiment  \\\n",
       "0     France  The Frog at Bercy Village  Negative   \n",
       "1     France  The Frog at Bercy Village  Negative   \n",
       "2     France  The Frog at Bercy Village  Negative   \n",
       "3     France  The Frog at Bercy Village  Negative   \n",
       "4     France  The Frog at Bercy Village  Negative   \n",
       "...      ...                        ...       ...   \n",
       "1497    Cuba   Old Square (Plaza Vieja)  Negative   \n",
       "1498    Cuba   Old Square (Plaza Vieja)  Negative   \n",
       "1499    Cuba   Old Square (Plaza Vieja)  Negative   \n",
       "1500    Cuba   Old Square (Plaza Vieja)  Negative   \n",
       "1501    Cuba   Old Square (Plaza Vieja)  Negative   \n",
       "\n",
       "                                   Review Title Review Date  \\\n",
       "0                                  Rude manager  May 2024 •   \n",
       "1                          A big disappointment  Feb 2024 •   \n",
       "2                  Pretty Place with Bland Food  Nov 2023 •   \n",
       "3      Great service and wine but inedible food  Mar 2023 •   \n",
       "4     Avoid- Worst meal in Rome - possibly ever  Nov 2022 •   \n",
       "...                                         ...         ...   \n",
       "1497                           The Tourism Trap  Oct 2016 •   \n",
       "1498                           the beer factory  Oct 2016 •   \n",
       "1499                                    brewery  Oct 2016 •   \n",
       "1500           It's nothing exciting over there  Oct 2016 •   \n",
       "1501                               Tourist Trap  Oct 2016 •   \n",
       "\n",
       "                                                 Review  \n",
       "0     The manager became agressive when I said the c...  \n",
       "1     I ordered a beef fillet ask to be done medium,...  \n",
       "2     This is an attractive venue with welcoming, al...  \n",
       "3     Sadly I  used the high TripAdvisor rating too ...  \n",
       "4     From the start this meal was bad- especially g...  \n",
       "...                                                 ...  \n",
       "1497  Despite the other reviews saying that this is ...  \n",
       "1498  beer is good.  food is awfull  The only decent...  \n",
       "1499  for terrible service of a truly comedic level,...  \n",
       "1500  We visited the Havana's Club Museum which is l...  \n",
       "1501  Food and service was awful. Very pretty stop. ...  \n",
       "\n",
       "[1502 rows x 6 columns]"
      ]
     },
     "execution_count": 1621,
     "metadata": {},
     "output_type": "execute_result"
    }
   ],
   "source": [
    "restaurant_data"
   ]
  },
  {
   "cell_type": "code",
   "execution_count": 1623,
   "id": "0b5f42ca-6dda-4b54-b519-b405730e8a8f",
   "metadata": {
    "tags": []
   },
   "outputs": [
    {
     "data": {
      "text/plain": [
       "1502"
      ]
     },
     "execution_count": 1623,
     "metadata": {},
     "output_type": "execute_result"
    }
   ],
   "source": [
    "# The observations are 1502 rows\n",
    "\n",
    "restaurant_data.shape[0]"
   ]
  },
  {
   "cell_type": "code",
   "execution_count": 1625,
   "id": "d3bb5529-802e-4ded-bcd6-067750fd0053",
   "metadata": {
    "tags": []
   },
   "outputs": [
    {
     "data": {
      "text/plain": [
       "'France'"
      ]
     },
     "execution_count": 1625,
     "metadata": {},
     "output_type": "execute_result"
    }
   ],
   "source": [
    "# The most represented country:\n",
    "\n",
    "restaurant_data[\"Country\"].value_counts().idxmax()"
   ]
  },
  {
   "cell_type": "code",
   "execution_count": 1627,
   "id": "579629d6-83b9-4e8f-b703-a3fc2fa63976",
   "metadata": {
    "tags": []
   },
   "outputs": [],
   "source": [
    "restaurant_data.columns = restaurant_data.columns.str.replace(\" \", \"_\")"
   ]
  },
  {
   "cell_type": "code",
   "execution_count": 1629,
   "id": "2fa329d6-be49-4c00-a4a8-48eab40ae7c0",
   "metadata": {
    "tags": []
   },
   "outputs": [
    {
     "data": {
      "text/plain": [
       "Index(['Country', 'Restaurant_Name', 'Sentiment', 'Review_Title',\n",
       "       'Review_Date', 'Review'],\n",
       "      dtype='object')"
      ]
     },
     "execution_count": 1629,
     "metadata": {},
     "output_type": "execute_result"
    }
   ],
   "source": [
    "restaurant_data.columns"
   ]
  },
  {
   "cell_type": "code",
   "execution_count": 1631,
   "id": "affe69cb-eeef-434e-9575-ea6ab110042b",
   "metadata": {
    "tags": []
   },
   "outputs": [],
   "source": [
    "restaurant_data[\"Review_Date\"] = restaurant_data[\"Review_Date\"].str.replace(\" •\", \"\", regex=False)"
   ]
  },
  {
   "cell_type": "code",
   "execution_count": 1633,
   "id": "be338598-0efd-4c6a-9fbc-96748ea846af",
   "metadata": {
    "tags": []
   },
   "outputs": [
    {
     "data": {
      "text/plain": [
       "0       May 2024\n",
       "1       Feb 2024\n",
       "2       Nov 2023\n",
       "3       Mar 2023\n",
       "4       Nov 2022\n",
       "          ...   \n",
       "1497    Oct 2016\n",
       "1498    Oct 2016\n",
       "1499    Oct 2016\n",
       "1500    Oct 2016\n",
       "1501    Oct 2016\n",
       "Name: Review_Date, Length: 1502, dtype: object"
      ]
     },
     "execution_count": 1633,
     "metadata": {},
     "output_type": "execute_result"
    }
   ],
   "source": [
    "restaurant_data.Review_Date"
   ]
  },
  {
   "cell_type": "code",
   "execution_count": 1635,
   "id": "518abada-7cf1-4463-82f8-6d6f757aaa4b",
   "metadata": {
    "tags": []
   },
   "outputs": [],
   "source": [
    "restaurant_data[[\"Review_\", \"Date\"]] = restaurant_data[\"Review_Date\"].str.split(\" \", expand=True)"
   ]
  },
  {
   "cell_type": "code",
   "execution_count": 1637,
   "id": "42829e68-3f3d-4ea8-95ca-15e67f77ba26",
   "metadata": {
    "tags": []
   },
   "outputs": [
    {
     "data": {
      "text/plain": [
       "Review_\n",
       "May     248\n",
       "Feb     161\n",
       "Oct     147\n",
       "Jun     147\n",
       "Aug     115\n",
       "Jul     111\n",
       "Dec     105\n",
       "Mar     102\n",
       "Sept     94\n",
       "Jan      89\n",
       "Nov      79\n",
       "Apr      71\n",
       "Sep      33\n",
       "Name: count, dtype: int64"
      ]
     },
     "execution_count": 1637,
     "metadata": {},
     "output_type": "execute_result"
    }
   ],
   "source": [
    "restaurant_data.Review_.value_counts()"
   ]
  },
  {
   "cell_type": "code",
   "execution_count": 1639,
   "id": "b7ae5b76-eed1-4b88-97a5-00263313d061",
   "metadata": {
    "tags": []
   },
   "outputs": [],
   "source": [
    "def month_name_to_number(month_name):\n",
    "    if month_name == \"Jan\":\n",
    "        return \"01\"\n",
    "    elif month_name == \"Feb\":\n",
    "        return \"02\"\n",
    "    elif month_name == \"Mar\":\n",
    "        return \"03\"\n",
    "    elif month_name == \"Apr\":\n",
    "        return \"04\"\n",
    "    elif month_name == \"May\":\n",
    "        return \"05\"\n",
    "    elif month_name == \"Jun\":\n",
    "        return \"06\"\n",
    "    elif month_name == \"Jul\":\n",
    "        return \"07\"\n",
    "    elif month_name == \"Aug\":\n",
    "        return \"08\"\n",
    "    elif month_name == \"Sept\":\n",
    "        return \"09\"\n",
    "    elif month_name == \"Sep\":\n",
    "        return \"09\"\n",
    "    elif month_name == \"Oct\":\n",
    "        return \"10\"\n",
    "    elif month_name == \"Nov\":\n",
    "        return \"11\"\n",
    "    elif month_name == \"Dec\":\n",
    "        return \"12\"\n",
    "    else:\n",
    "        return \"Invalid month name\""
   ]
  },
  {
   "cell_type": "code",
   "execution_count": 1641,
   "id": "682b56a8-2b6f-4d05-924a-5e8eb23b1ffb",
   "metadata": {
    "tags": []
   },
   "outputs": [],
   "source": [
    "restaurant_data[\"Review_\"] = restaurant_data.Review_.apply(month_name_to_number)"
   ]
  },
  {
   "cell_type": "code",
   "execution_count": 1643,
   "id": "92916b34-fe3f-4b11-82e2-c0a268e96fb7",
   "metadata": {
    "tags": []
   },
   "outputs": [
    {
     "data": {
      "text/plain": [
       "Review_\n",
       "05    248\n",
       "02    161\n",
       "10    147\n",
       "06    147\n",
       "09    127\n",
       "08    115\n",
       "07    111\n",
       "12    105\n",
       "03    102\n",
       "01     89\n",
       "11     79\n",
       "04     71\n",
       "Name: count, dtype: int64"
      ]
     },
     "execution_count": 1643,
     "metadata": {},
     "output_type": "execute_result"
    }
   ],
   "source": [
    "restaurant_data.Review_.value_counts()"
   ]
  },
  {
   "cell_type": "code",
   "execution_count": 1645,
   "id": "ab51e156-f8b3-4ccc-b4da-c4be9e38cbda",
   "metadata": {
    "tags": []
   },
   "outputs": [
    {
     "data": {
      "text/plain": [
       "0       2024\n",
       "1       2024\n",
       "2       2023\n",
       "3       2023\n",
       "4       2022\n",
       "        ... \n",
       "1497    2016\n",
       "1498    2016\n",
       "1499    2016\n",
       "1500    2016\n",
       "1501    2016\n",
       "Name: Date, Length: 1502, dtype: object"
      ]
     },
     "execution_count": 1645,
     "metadata": {},
     "output_type": "execute_result"
    }
   ],
   "source": [
    "restaurant_data.Date"
   ]
  },
  {
   "cell_type": "code",
   "execution_count": 1647,
   "id": "87803eb0-c713-4d8a-9a81-f483f519ee3c",
   "metadata": {
    "tags": []
   },
   "outputs": [
    {
     "data": {
      "text/plain": [
       "0       True\n",
       "1       True\n",
       "2       True\n",
       "3       True\n",
       "4       True\n",
       "        ... \n",
       "1497    True\n",
       "1498    True\n",
       "1499    True\n",
       "1500    True\n",
       "1501    True\n",
       "Name: Date, Length: 1502, dtype: bool"
      ]
     },
     "execution_count": 1647,
     "metadata": {},
     "output_type": "execute_result"
    }
   ],
   "source": [
    "restaurant_data[\"Date\"].str.isnumeric() == True"
   ]
  },
  {
   "cell_type": "code",
   "execution_count": 1649,
   "id": "7f26c0f9-29e8-4952-a3fa-0e3f6ac52047",
   "metadata": {
    "tags": []
   },
   "outputs": [],
   "source": [
    "restaurant_data[\"Date\"] = restaurant_data[\"Date\"].astype(int)"
   ]
  },
  {
   "cell_type": "code",
   "execution_count": 1651,
   "id": "0444892c-2332-4f72-9d49-a7b1661b975c",
   "metadata": {
    "tags": []
   },
   "outputs": [
    {
     "data": {
      "text/plain": [
       "0       2024\n",
       "1       2024\n",
       "2       2023\n",
       "3       2023\n",
       "4       2022\n",
       "        ... \n",
       "1497    2016\n",
       "1498    2016\n",
       "1499    2016\n",
       "1500    2016\n",
       "1501    2016\n",
       "Name: Date, Length: 1502, dtype: int64"
      ]
     },
     "execution_count": 1651,
     "metadata": {},
     "output_type": "execute_result"
    }
   ],
   "source": [
    "restaurant_data.Date"
   ]
  },
  {
   "cell_type": "code",
   "execution_count": 1653,
   "id": "4556f0e8-6b6f-4a36-b908-78ea3b8dc7e2",
   "metadata": {
    "tags": []
   },
   "outputs": [],
   "source": [
    "restaurant_data = restaurant_data.drop(columns = [\"Review_Date\"])"
   ]
  },
  {
   "cell_type": "code",
   "execution_count": 1655,
   "id": "270a46a6-3cdf-4703-87c0-0483d05096a0",
   "metadata": {
    "tags": []
   },
   "outputs": [
    {
     "data": {
      "text/html": [
       "<div>\n",
       "<style scoped>\n",
       "    .dataframe tbody tr th:only-of-type {\n",
       "        vertical-align: middle;\n",
       "    }\n",
       "\n",
       "    .dataframe tbody tr th {\n",
       "        vertical-align: top;\n",
       "    }\n",
       "\n",
       "    .dataframe thead th {\n",
       "        text-align: right;\n",
       "    }\n",
       "</style>\n",
       "<table border=\"1\" class=\"dataframe\">\n",
       "  <thead>\n",
       "    <tr style=\"text-align: right;\">\n",
       "      <th></th>\n",
       "      <th>Country</th>\n",
       "      <th>Restaurant_Name</th>\n",
       "      <th>Sentiment</th>\n",
       "      <th>Review_Title</th>\n",
       "      <th>Review</th>\n",
       "      <th>Review_</th>\n",
       "      <th>Date</th>\n",
       "    </tr>\n",
       "  </thead>\n",
       "  <tbody>\n",
       "    <tr>\n",
       "      <th>0</th>\n",
       "      <td>France</td>\n",
       "      <td>The Frog at Bercy Village</td>\n",
       "      <td>Negative</td>\n",
       "      <td>Rude manager</td>\n",
       "      <td>The manager became agressive when I said the c...</td>\n",
       "      <td>05</td>\n",
       "      <td>2024</td>\n",
       "    </tr>\n",
       "    <tr>\n",
       "      <th>1</th>\n",
       "      <td>France</td>\n",
       "      <td>The Frog at Bercy Village</td>\n",
       "      <td>Negative</td>\n",
       "      <td>A big disappointment</td>\n",
       "      <td>I ordered a beef fillet ask to be done medium,...</td>\n",
       "      <td>02</td>\n",
       "      <td>2024</td>\n",
       "    </tr>\n",
       "    <tr>\n",
       "      <th>2</th>\n",
       "      <td>France</td>\n",
       "      <td>The Frog at Bercy Village</td>\n",
       "      <td>Negative</td>\n",
       "      <td>Pretty Place with Bland Food</td>\n",
       "      <td>This is an attractive venue with welcoming, al...</td>\n",
       "      <td>11</td>\n",
       "      <td>2023</td>\n",
       "    </tr>\n",
       "    <tr>\n",
       "      <th>3</th>\n",
       "      <td>France</td>\n",
       "      <td>The Frog at Bercy Village</td>\n",
       "      <td>Negative</td>\n",
       "      <td>Great service and wine but inedible food</td>\n",
       "      <td>Sadly I  used the high TripAdvisor rating too ...</td>\n",
       "      <td>03</td>\n",
       "      <td>2023</td>\n",
       "    </tr>\n",
       "    <tr>\n",
       "      <th>4</th>\n",
       "      <td>France</td>\n",
       "      <td>The Frog at Bercy Village</td>\n",
       "      <td>Negative</td>\n",
       "      <td>Avoid- Worst meal in Rome - possibly ever</td>\n",
       "      <td>From the start this meal was bad- especially g...</td>\n",
       "      <td>11</td>\n",
       "      <td>2022</td>\n",
       "    </tr>\n",
       "    <tr>\n",
       "      <th>...</th>\n",
       "      <td>...</td>\n",
       "      <td>...</td>\n",
       "      <td>...</td>\n",
       "      <td>...</td>\n",
       "      <td>...</td>\n",
       "      <td>...</td>\n",
       "      <td>...</td>\n",
       "    </tr>\n",
       "    <tr>\n",
       "      <th>1497</th>\n",
       "      <td>Cuba</td>\n",
       "      <td>Old Square (Plaza Vieja)</td>\n",
       "      <td>Negative</td>\n",
       "      <td>The Tourism Trap</td>\n",
       "      <td>Despite the other reviews saying that this is ...</td>\n",
       "      <td>10</td>\n",
       "      <td>2016</td>\n",
       "    </tr>\n",
       "    <tr>\n",
       "      <th>1498</th>\n",
       "      <td>Cuba</td>\n",
       "      <td>Old Square (Plaza Vieja)</td>\n",
       "      <td>Negative</td>\n",
       "      <td>the beer factory</td>\n",
       "      <td>beer is good.  food is awfull  The only decent...</td>\n",
       "      <td>10</td>\n",
       "      <td>2016</td>\n",
       "    </tr>\n",
       "    <tr>\n",
       "      <th>1499</th>\n",
       "      <td>Cuba</td>\n",
       "      <td>Old Square (Plaza Vieja)</td>\n",
       "      <td>Negative</td>\n",
       "      <td>brewery</td>\n",
       "      <td>for terrible service of a truly comedic level,...</td>\n",
       "      <td>10</td>\n",
       "      <td>2016</td>\n",
       "    </tr>\n",
       "    <tr>\n",
       "      <th>1500</th>\n",
       "      <td>Cuba</td>\n",
       "      <td>Old Square (Plaza Vieja)</td>\n",
       "      <td>Negative</td>\n",
       "      <td>It's nothing exciting over there</td>\n",
       "      <td>We visited the Havana's Club Museum which is l...</td>\n",
       "      <td>10</td>\n",
       "      <td>2016</td>\n",
       "    </tr>\n",
       "    <tr>\n",
       "      <th>1501</th>\n",
       "      <td>Cuba</td>\n",
       "      <td>Old Square (Plaza Vieja)</td>\n",
       "      <td>Negative</td>\n",
       "      <td>Tourist Trap</td>\n",
       "      <td>Food and service was awful. Very pretty stop. ...</td>\n",
       "      <td>10</td>\n",
       "      <td>2016</td>\n",
       "    </tr>\n",
       "  </tbody>\n",
       "</table>\n",
       "<p>1502 rows × 7 columns</p>\n",
       "</div>"
      ],
      "text/plain": [
       "     Country            Restaurant_Name Sentiment  \\\n",
       "0     France  The Frog at Bercy Village  Negative   \n",
       "1     France  The Frog at Bercy Village  Negative   \n",
       "2     France  The Frog at Bercy Village  Negative   \n",
       "3     France  The Frog at Bercy Village  Negative   \n",
       "4     France  The Frog at Bercy Village  Negative   \n",
       "...      ...                        ...       ...   \n",
       "1497    Cuba   Old Square (Plaza Vieja)  Negative   \n",
       "1498    Cuba   Old Square (Plaza Vieja)  Negative   \n",
       "1499    Cuba   Old Square (Plaza Vieja)  Negative   \n",
       "1500    Cuba   Old Square (Plaza Vieja)  Negative   \n",
       "1501    Cuba   Old Square (Plaza Vieja)  Negative   \n",
       "\n",
       "                                   Review_Title  \\\n",
       "0                                  Rude manager   \n",
       "1                          A big disappointment   \n",
       "2                  Pretty Place with Bland Food   \n",
       "3      Great service and wine but inedible food   \n",
       "4     Avoid- Worst meal in Rome - possibly ever   \n",
       "...                                         ...   \n",
       "1497                           The Tourism Trap   \n",
       "1498                           the beer factory   \n",
       "1499                                    brewery   \n",
       "1500           It's nothing exciting over there   \n",
       "1501                               Tourist Trap   \n",
       "\n",
       "                                                 Review Review_  Date  \n",
       "0     The manager became agressive when I said the c...      05  2024  \n",
       "1     I ordered a beef fillet ask to be done medium,...      02  2024  \n",
       "2     This is an attractive venue with welcoming, al...      11  2023  \n",
       "3     Sadly I  used the high TripAdvisor rating too ...      03  2023  \n",
       "4     From the start this meal was bad- especially g...      11  2022  \n",
       "...                                                 ...     ...   ...  \n",
       "1497  Despite the other reviews saying that this is ...      10  2016  \n",
       "1498  beer is good.  food is awfull  The only decent...      10  2016  \n",
       "1499  for terrible service of a truly comedic level,...      10  2016  \n",
       "1500  We visited the Havana's Club Museum which is l...      10  2016  \n",
       "1501  Food and service was awful. Very pretty stop. ...      10  2016  \n",
       "\n",
       "[1502 rows x 7 columns]"
      ]
     },
     "execution_count": 1655,
     "metadata": {},
     "output_type": "execute_result"
    }
   ],
   "source": [
    "restaurant_data"
   ]
  },
  {
   "cell_type": "code",
   "execution_count": 1657,
   "id": "c045d98a-afa4-47fa-83ed-08312ec5c396",
   "metadata": {
    "tags": []
   },
   "outputs": [],
   "source": [
    "restaurant_data[\"Review_Date\"] = restaurant_data[\"Review_\"].astype(str) + \" \" + restaurant_data[\"Date\"].astype(str)"
   ]
  },
  {
   "cell_type": "code",
   "execution_count": 1659,
   "id": "5f6f1195-3673-4922-8b08-729ec9823382",
   "metadata": {
    "tags": []
   },
   "outputs": [
    {
     "data": {
      "text/html": [
       "<div>\n",
       "<style scoped>\n",
       "    .dataframe tbody tr th:only-of-type {\n",
       "        vertical-align: middle;\n",
       "    }\n",
       "\n",
       "    .dataframe tbody tr th {\n",
       "        vertical-align: top;\n",
       "    }\n",
       "\n",
       "    .dataframe thead th {\n",
       "        text-align: right;\n",
       "    }\n",
       "</style>\n",
       "<table border=\"1\" class=\"dataframe\">\n",
       "  <thead>\n",
       "    <tr style=\"text-align: right;\">\n",
       "      <th></th>\n",
       "      <th>Country</th>\n",
       "      <th>Restaurant_Name</th>\n",
       "      <th>Sentiment</th>\n",
       "      <th>Review_Title</th>\n",
       "      <th>Review</th>\n",
       "      <th>Review_</th>\n",
       "      <th>Date</th>\n",
       "      <th>Review_Date</th>\n",
       "    </tr>\n",
       "  </thead>\n",
       "  <tbody>\n",
       "    <tr>\n",
       "      <th>0</th>\n",
       "      <td>France</td>\n",
       "      <td>The Frog at Bercy Village</td>\n",
       "      <td>Negative</td>\n",
       "      <td>Rude manager</td>\n",
       "      <td>The manager became agressive when I said the c...</td>\n",
       "      <td>05</td>\n",
       "      <td>2024</td>\n",
       "      <td>05 2024</td>\n",
       "    </tr>\n",
       "    <tr>\n",
       "      <th>1</th>\n",
       "      <td>France</td>\n",
       "      <td>The Frog at Bercy Village</td>\n",
       "      <td>Negative</td>\n",
       "      <td>A big disappointment</td>\n",
       "      <td>I ordered a beef fillet ask to be done medium,...</td>\n",
       "      <td>02</td>\n",
       "      <td>2024</td>\n",
       "      <td>02 2024</td>\n",
       "    </tr>\n",
       "    <tr>\n",
       "      <th>2</th>\n",
       "      <td>France</td>\n",
       "      <td>The Frog at Bercy Village</td>\n",
       "      <td>Negative</td>\n",
       "      <td>Pretty Place with Bland Food</td>\n",
       "      <td>This is an attractive venue with welcoming, al...</td>\n",
       "      <td>11</td>\n",
       "      <td>2023</td>\n",
       "      <td>11 2023</td>\n",
       "    </tr>\n",
       "    <tr>\n",
       "      <th>3</th>\n",
       "      <td>France</td>\n",
       "      <td>The Frog at Bercy Village</td>\n",
       "      <td>Negative</td>\n",
       "      <td>Great service and wine but inedible food</td>\n",
       "      <td>Sadly I  used the high TripAdvisor rating too ...</td>\n",
       "      <td>03</td>\n",
       "      <td>2023</td>\n",
       "      <td>03 2023</td>\n",
       "    </tr>\n",
       "    <tr>\n",
       "      <th>4</th>\n",
       "      <td>France</td>\n",
       "      <td>The Frog at Bercy Village</td>\n",
       "      <td>Negative</td>\n",
       "      <td>Avoid- Worst meal in Rome - possibly ever</td>\n",
       "      <td>From the start this meal was bad- especially g...</td>\n",
       "      <td>11</td>\n",
       "      <td>2022</td>\n",
       "      <td>11 2022</td>\n",
       "    </tr>\n",
       "    <tr>\n",
       "      <th>...</th>\n",
       "      <td>...</td>\n",
       "      <td>...</td>\n",
       "      <td>...</td>\n",
       "      <td>...</td>\n",
       "      <td>...</td>\n",
       "      <td>...</td>\n",
       "      <td>...</td>\n",
       "      <td>...</td>\n",
       "    </tr>\n",
       "    <tr>\n",
       "      <th>1497</th>\n",
       "      <td>Cuba</td>\n",
       "      <td>Old Square (Plaza Vieja)</td>\n",
       "      <td>Negative</td>\n",
       "      <td>The Tourism Trap</td>\n",
       "      <td>Despite the other reviews saying that this is ...</td>\n",
       "      <td>10</td>\n",
       "      <td>2016</td>\n",
       "      <td>10 2016</td>\n",
       "    </tr>\n",
       "    <tr>\n",
       "      <th>1498</th>\n",
       "      <td>Cuba</td>\n",
       "      <td>Old Square (Plaza Vieja)</td>\n",
       "      <td>Negative</td>\n",
       "      <td>the beer factory</td>\n",
       "      <td>beer is good.  food is awfull  The only decent...</td>\n",
       "      <td>10</td>\n",
       "      <td>2016</td>\n",
       "      <td>10 2016</td>\n",
       "    </tr>\n",
       "    <tr>\n",
       "      <th>1499</th>\n",
       "      <td>Cuba</td>\n",
       "      <td>Old Square (Plaza Vieja)</td>\n",
       "      <td>Negative</td>\n",
       "      <td>brewery</td>\n",
       "      <td>for terrible service of a truly comedic level,...</td>\n",
       "      <td>10</td>\n",
       "      <td>2016</td>\n",
       "      <td>10 2016</td>\n",
       "    </tr>\n",
       "    <tr>\n",
       "      <th>1500</th>\n",
       "      <td>Cuba</td>\n",
       "      <td>Old Square (Plaza Vieja)</td>\n",
       "      <td>Negative</td>\n",
       "      <td>It's nothing exciting over there</td>\n",
       "      <td>We visited the Havana's Club Museum which is l...</td>\n",
       "      <td>10</td>\n",
       "      <td>2016</td>\n",
       "      <td>10 2016</td>\n",
       "    </tr>\n",
       "    <tr>\n",
       "      <th>1501</th>\n",
       "      <td>Cuba</td>\n",
       "      <td>Old Square (Plaza Vieja)</td>\n",
       "      <td>Negative</td>\n",
       "      <td>Tourist Trap</td>\n",
       "      <td>Food and service was awful. Very pretty stop. ...</td>\n",
       "      <td>10</td>\n",
       "      <td>2016</td>\n",
       "      <td>10 2016</td>\n",
       "    </tr>\n",
       "  </tbody>\n",
       "</table>\n",
       "<p>1502 rows × 8 columns</p>\n",
       "</div>"
      ],
      "text/plain": [
       "     Country            Restaurant_Name Sentiment  \\\n",
       "0     France  The Frog at Bercy Village  Negative   \n",
       "1     France  The Frog at Bercy Village  Negative   \n",
       "2     France  The Frog at Bercy Village  Negative   \n",
       "3     France  The Frog at Bercy Village  Negative   \n",
       "4     France  The Frog at Bercy Village  Negative   \n",
       "...      ...                        ...       ...   \n",
       "1497    Cuba   Old Square (Plaza Vieja)  Negative   \n",
       "1498    Cuba   Old Square (Plaza Vieja)  Negative   \n",
       "1499    Cuba   Old Square (Plaza Vieja)  Negative   \n",
       "1500    Cuba   Old Square (Plaza Vieja)  Negative   \n",
       "1501    Cuba   Old Square (Plaza Vieja)  Negative   \n",
       "\n",
       "                                   Review_Title  \\\n",
       "0                                  Rude manager   \n",
       "1                          A big disappointment   \n",
       "2                  Pretty Place with Bland Food   \n",
       "3      Great service and wine but inedible food   \n",
       "4     Avoid- Worst meal in Rome - possibly ever   \n",
       "...                                         ...   \n",
       "1497                           The Tourism Trap   \n",
       "1498                           the beer factory   \n",
       "1499                                    brewery   \n",
       "1500           It's nothing exciting over there   \n",
       "1501                               Tourist Trap   \n",
       "\n",
       "                                                 Review Review_  Date  \\\n",
       "0     The manager became agressive when I said the c...      05  2024   \n",
       "1     I ordered a beef fillet ask to be done medium,...      02  2024   \n",
       "2     This is an attractive venue with welcoming, al...      11  2023   \n",
       "3     Sadly I  used the high TripAdvisor rating too ...      03  2023   \n",
       "4     From the start this meal was bad- especially g...      11  2022   \n",
       "...                                                 ...     ...   ...   \n",
       "1497  Despite the other reviews saying that this is ...      10  2016   \n",
       "1498  beer is good.  food is awfull  The only decent...      10  2016   \n",
       "1499  for terrible service of a truly comedic level,...      10  2016   \n",
       "1500  We visited the Havana's Club Museum which is l...      10  2016   \n",
       "1501  Food and service was awful. Very pretty stop. ...      10  2016   \n",
       "\n",
       "     Review_Date  \n",
       "0        05 2024  \n",
       "1        02 2024  \n",
       "2        11 2023  \n",
       "3        03 2023  \n",
       "4        11 2022  \n",
       "...          ...  \n",
       "1497     10 2016  \n",
       "1498     10 2016  \n",
       "1499     10 2016  \n",
       "1500     10 2016  \n",
       "1501     10 2016  \n",
       "\n",
       "[1502 rows x 8 columns]"
      ]
     },
     "execution_count": 1659,
     "metadata": {},
     "output_type": "execute_result"
    }
   ],
   "source": [
    "restaurant_data"
   ]
  },
  {
   "cell_type": "code",
   "execution_count": 1661,
   "id": "b088b97f-df40-4fc9-a751-5b98b463c9c6",
   "metadata": {
    "tags": []
   },
   "outputs": [],
   "source": [
    "restaurant_data = restaurant_data.drop(columns = [\"Review_\", \"Date\"])"
   ]
  },
  {
   "cell_type": "code",
   "execution_count": 1663,
   "id": "8a1c8106-d92d-490c-bcc5-5c1ec690a630",
   "metadata": {
    "tags": []
   },
   "outputs": [
    {
     "data": {
      "text/html": [
       "<div>\n",
       "<style scoped>\n",
       "    .dataframe tbody tr th:only-of-type {\n",
       "        vertical-align: middle;\n",
       "    }\n",
       "\n",
       "    .dataframe tbody tr th {\n",
       "        vertical-align: top;\n",
       "    }\n",
       "\n",
       "    .dataframe thead th {\n",
       "        text-align: right;\n",
       "    }\n",
       "</style>\n",
       "<table border=\"1\" class=\"dataframe\">\n",
       "  <thead>\n",
       "    <tr style=\"text-align: right;\">\n",
       "      <th></th>\n",
       "      <th>Country</th>\n",
       "      <th>Restaurant_Name</th>\n",
       "      <th>Sentiment</th>\n",
       "      <th>Review_Title</th>\n",
       "      <th>Review</th>\n",
       "      <th>Review_Date</th>\n",
       "    </tr>\n",
       "  </thead>\n",
       "  <tbody>\n",
       "    <tr>\n",
       "      <th>0</th>\n",
       "      <td>France</td>\n",
       "      <td>The Frog at Bercy Village</td>\n",
       "      <td>Negative</td>\n",
       "      <td>Rude manager</td>\n",
       "      <td>The manager became agressive when I said the c...</td>\n",
       "      <td>05 2024</td>\n",
       "    </tr>\n",
       "    <tr>\n",
       "      <th>1</th>\n",
       "      <td>France</td>\n",
       "      <td>The Frog at Bercy Village</td>\n",
       "      <td>Negative</td>\n",
       "      <td>A big disappointment</td>\n",
       "      <td>I ordered a beef fillet ask to be done medium,...</td>\n",
       "      <td>02 2024</td>\n",
       "    </tr>\n",
       "    <tr>\n",
       "      <th>2</th>\n",
       "      <td>France</td>\n",
       "      <td>The Frog at Bercy Village</td>\n",
       "      <td>Negative</td>\n",
       "      <td>Pretty Place with Bland Food</td>\n",
       "      <td>This is an attractive venue with welcoming, al...</td>\n",
       "      <td>11 2023</td>\n",
       "    </tr>\n",
       "    <tr>\n",
       "      <th>3</th>\n",
       "      <td>France</td>\n",
       "      <td>The Frog at Bercy Village</td>\n",
       "      <td>Negative</td>\n",
       "      <td>Great service and wine but inedible food</td>\n",
       "      <td>Sadly I  used the high TripAdvisor rating too ...</td>\n",
       "      <td>03 2023</td>\n",
       "    </tr>\n",
       "    <tr>\n",
       "      <th>4</th>\n",
       "      <td>France</td>\n",
       "      <td>The Frog at Bercy Village</td>\n",
       "      <td>Negative</td>\n",
       "      <td>Avoid- Worst meal in Rome - possibly ever</td>\n",
       "      <td>From the start this meal was bad- especially g...</td>\n",
       "      <td>11 2022</td>\n",
       "    </tr>\n",
       "    <tr>\n",
       "      <th>...</th>\n",
       "      <td>...</td>\n",
       "      <td>...</td>\n",
       "      <td>...</td>\n",
       "      <td>...</td>\n",
       "      <td>...</td>\n",
       "      <td>...</td>\n",
       "    </tr>\n",
       "    <tr>\n",
       "      <th>1497</th>\n",
       "      <td>Cuba</td>\n",
       "      <td>Old Square (Plaza Vieja)</td>\n",
       "      <td>Negative</td>\n",
       "      <td>The Tourism Trap</td>\n",
       "      <td>Despite the other reviews saying that this is ...</td>\n",
       "      <td>10 2016</td>\n",
       "    </tr>\n",
       "    <tr>\n",
       "      <th>1498</th>\n",
       "      <td>Cuba</td>\n",
       "      <td>Old Square (Plaza Vieja)</td>\n",
       "      <td>Negative</td>\n",
       "      <td>the beer factory</td>\n",
       "      <td>beer is good.  food is awfull  The only decent...</td>\n",
       "      <td>10 2016</td>\n",
       "    </tr>\n",
       "    <tr>\n",
       "      <th>1499</th>\n",
       "      <td>Cuba</td>\n",
       "      <td>Old Square (Plaza Vieja)</td>\n",
       "      <td>Negative</td>\n",
       "      <td>brewery</td>\n",
       "      <td>for terrible service of a truly comedic level,...</td>\n",
       "      <td>10 2016</td>\n",
       "    </tr>\n",
       "    <tr>\n",
       "      <th>1500</th>\n",
       "      <td>Cuba</td>\n",
       "      <td>Old Square (Plaza Vieja)</td>\n",
       "      <td>Negative</td>\n",
       "      <td>It's nothing exciting over there</td>\n",
       "      <td>We visited the Havana's Club Museum which is l...</td>\n",
       "      <td>10 2016</td>\n",
       "    </tr>\n",
       "    <tr>\n",
       "      <th>1501</th>\n",
       "      <td>Cuba</td>\n",
       "      <td>Old Square (Plaza Vieja)</td>\n",
       "      <td>Negative</td>\n",
       "      <td>Tourist Trap</td>\n",
       "      <td>Food and service was awful. Very pretty stop. ...</td>\n",
       "      <td>10 2016</td>\n",
       "    </tr>\n",
       "  </tbody>\n",
       "</table>\n",
       "<p>1502 rows × 6 columns</p>\n",
       "</div>"
      ],
      "text/plain": [
       "     Country            Restaurant_Name Sentiment  \\\n",
       "0     France  The Frog at Bercy Village  Negative   \n",
       "1     France  The Frog at Bercy Village  Negative   \n",
       "2     France  The Frog at Bercy Village  Negative   \n",
       "3     France  The Frog at Bercy Village  Negative   \n",
       "4     France  The Frog at Bercy Village  Negative   \n",
       "...      ...                        ...       ...   \n",
       "1497    Cuba   Old Square (Plaza Vieja)  Negative   \n",
       "1498    Cuba   Old Square (Plaza Vieja)  Negative   \n",
       "1499    Cuba   Old Square (Plaza Vieja)  Negative   \n",
       "1500    Cuba   Old Square (Plaza Vieja)  Negative   \n",
       "1501    Cuba   Old Square (Plaza Vieja)  Negative   \n",
       "\n",
       "                                   Review_Title  \\\n",
       "0                                  Rude manager   \n",
       "1                          A big disappointment   \n",
       "2                  Pretty Place with Bland Food   \n",
       "3      Great service and wine but inedible food   \n",
       "4     Avoid- Worst meal in Rome - possibly ever   \n",
       "...                                         ...   \n",
       "1497                           The Tourism Trap   \n",
       "1498                           the beer factory   \n",
       "1499                                    brewery   \n",
       "1500           It's nothing exciting over there   \n",
       "1501                               Tourist Trap   \n",
       "\n",
       "                                                 Review Review_Date  \n",
       "0     The manager became agressive when I said the c...     05 2024  \n",
       "1     I ordered a beef fillet ask to be done medium,...     02 2024  \n",
       "2     This is an attractive venue with welcoming, al...     11 2023  \n",
       "3     Sadly I  used the high TripAdvisor rating too ...     03 2023  \n",
       "4     From the start this meal was bad- especially g...     11 2022  \n",
       "...                                                 ...         ...  \n",
       "1497  Despite the other reviews saying that this is ...     10 2016  \n",
       "1498  beer is good.  food is awfull  The only decent...     10 2016  \n",
       "1499  for terrible service of a truly comedic level,...     10 2016  \n",
       "1500  We visited the Havana's Club Museum which is l...     10 2016  \n",
       "1501  Food and service was awful. Very pretty stop. ...     10 2016  \n",
       "\n",
       "[1502 rows x 6 columns]"
      ]
     },
     "execution_count": 1663,
     "metadata": {},
     "output_type": "execute_result"
    }
   ],
   "source": [
    "restaurant_data"
   ]
  },
  {
   "cell_type": "code",
   "execution_count": 1665,
   "id": "32e510c8-5b20-49d7-9923-9e5aaa9bd35a",
   "metadata": {
    "tags": []
   },
   "outputs": [
    {
     "data": {
      "text/plain": [
       "Review_Date\n",
       "05 2014    108\n",
       "06 2024     70\n",
       "02 2022     59\n",
       "05 2019     48\n",
       "09 2019     37\n",
       "          ... \n",
       "06 2012      1\n",
       "12 2016      1\n",
       "09 2017      1\n",
       "06 2022      1\n",
       "04 2020      1\n",
       "Name: count, Length: 139, dtype: int64"
      ]
     },
     "execution_count": 1665,
     "metadata": {},
     "output_type": "execute_result"
    }
   ],
   "source": [
    "restaurant_data.Review_Date.value_counts()"
   ]
  },
  {
   "cell_type": "code",
   "execution_count": 1667,
   "id": "e24eec7d-9521-4271-9a41-3cd078bd2b6f",
   "metadata": {
    "tags": []
   },
   "outputs": [],
   "source": [
    "restaurant_data[\"Review_Date\"] = pd.to_datetime(restaurant_data[\"Review_Date\"], format=\"%m %Y\")"
   ]
  },
  {
   "cell_type": "code",
   "execution_count": 1669,
   "id": "7a3423bd-e5f6-4947-8f41-10f466191933",
   "metadata": {
    "tags": []
   },
   "outputs": [],
   "source": [
    "# Minimum and maximum date\n",
    "\n",
    "date_range = (restaurant_data[\"Review_Date\"].min(), restaurant_data[\"Review_Date\"].max())"
   ]
  },
  {
   "cell_type": "code",
   "execution_count": 1671,
   "id": "4d279366-d017-4cb9-a90d-fd87ff08b44b",
   "metadata": {
    "tags": []
   },
   "outputs": [
    {
     "data": {
      "text/plain": [
       "(Timestamp('2010-09-01 00:00:00'), Timestamp('2024-07-01 00:00:00'))"
      ]
     },
     "execution_count": 1671,
     "metadata": {},
     "output_type": "execute_result"
    }
   ],
   "source": [
    "# The time range which the dataset represent\n",
    "\n",
    "date_range"
   ]
  },
  {
   "cell_type": "code",
   "execution_count": 1673,
   "id": "e97b4771-b433-4a89-b4d3-2674c697fcd3",
   "metadata": {
    "tags": []
   },
   "outputs": [],
   "source": [
    "restaurant_data.to_csv(\"restaurant_data_cleaned.csv\", index = None)"
   ]
  },
  {
   "cell_type": "code",
   "execution_count": 1675,
   "id": "72bc067b-e138-4848-8dda-700e78bd8299",
   "metadata": {
    "tags": []
   },
   "outputs": [
    {
     "data": {
      "text/plain": [
       "Restaurant_Name\n",
       "The Frog at Bercy Village                512\n",
       "Ad Hoc Ristorante (Piazza del Popolo)    318\n",
       "The LOFT                                 210\n",
       "Old Square (Plaza Vieja)                 146\n",
       "Stara Kamienica                          135\n",
       "Pelmenya                                 100\n",
       "Mosaic                                    81\n",
       "Name: count, dtype: int64"
      ]
     },
     "execution_count": 1675,
     "metadata": {},
     "output_type": "execute_result"
    }
   ],
   "source": [
    "restaurant_data[\"Restaurant_Name\"].value_counts()"
   ]
  },
  {
   "cell_type": "code",
   "execution_count": 1677,
   "id": "171fe526-46ac-43dd-a622-c2049a991789",
   "metadata": {
    "tags": []
   },
   "outputs": [
    {
     "data": {
      "text/plain": [
       "7"
      ]
     },
     "execution_count": 1677,
     "metadata": {},
     "output_type": "execute_result"
    }
   ],
   "source": [
    "restaurant_data[\"Restaurant_Name\"].value_counts().nunique()"
   ]
  },
  {
   "cell_type": "code",
   "execution_count": 1679,
   "id": "6d3709fd-f645-4c22-994f-0d836724f265",
   "metadata": {
    "tags": []
   },
   "outputs": [],
   "source": [
    "restaurant_counts = restaurant_data[\"Restaurant_Name\"].value_counts()"
   ]
  },
  {
   "cell_type": "code",
   "execution_count": 1681,
   "id": "28ab4b1b-d0db-441a-b23e-660d7dfb0904",
   "metadata": {
    "tags": []
   },
   "outputs": [
    {
     "data": {
      "text/plain": [
       "False"
      ]
     },
     "execution_count": 1681,
     "metadata": {},
     "output_type": "execute_result"
    }
   ],
   "source": [
    "# The dataset is not balanced, some of the restaurants have more reviews than others\n",
    "\n",
    "restaurant_counts.nunique() == 1"
   ]
  },
  {
   "cell_type": "code",
   "execution_count": 1683,
   "id": "9f59d2c6-f194-443f-8a43-0b92d91ee8da",
   "metadata": {
    "tags": []
   },
   "outputs": [
    {
     "data": {
      "text/plain": [
       "Sentiment\n",
       "Positive    1237\n",
       "Negative     265\n",
       "Name: count, dtype: int64"
      ]
     },
     "execution_count": 1683,
     "metadata": {},
     "output_type": "execute_result"
    }
   ],
   "source": [
    "restaurant_data[\"Sentiment\"].value_counts()"
   ]
  },
  {
   "cell_type": "code",
   "execution_count": 1685,
   "id": "38dce80c-5b1b-4afe-8d38-2a7cab1d9fa7",
   "metadata": {
    "tags": []
   },
   "outputs": [
    {
     "data": {
      "text/plain": [
       "2"
      ]
     },
     "execution_count": 1685,
     "metadata": {},
     "output_type": "execute_result"
    }
   ],
   "source": [
    "restaurant_data[\"Sentiment\"].value_counts().nunique()"
   ]
  },
  {
   "cell_type": "code",
   "execution_count": 1687,
   "id": "4aabba23-4c7b-4b9e-99ee-6af5f1cb36fb",
   "metadata": {
    "tags": []
   },
   "outputs": [],
   "source": [
    "sentiment_counts = restaurant_data[\"Sentiment\"].value_counts()"
   ]
  },
  {
   "cell_type": "code",
   "execution_count": 1689,
   "id": "91aa716a-0778-4464-9d7f-725314170c45",
   "metadata": {
    "tags": []
   },
   "outputs": [
    {
     "data": {
      "text/plain": [
       "False"
      ]
     },
     "execution_count": 1689,
     "metadata": {},
     "output_type": "execute_result"
    }
   ],
   "source": [
    "# Also the dataset is not balanced with sentiments\n",
    "\n",
    "sentiment_counts.nunique() == 1"
   ]
  },
  {
   "cell_type": "markdown",
   "id": "01a55576-cd3c-4451-b5c8-6a51356a7386",
   "metadata": {},
   "source": [
    "### Problem 2. Getting acquainted with reviews (1 point)\n",
    "Are positive comments typically shorter or longer? Try to define a good, robust metric for \"length\" of a text; it's not necessary just the character count. Can you explain your findings?"
   ]
  },
  {
   "cell_type": "code",
   "execution_count": 1692,
   "id": "97901e74-6093-4274-966a-da73ec3a5961",
   "metadata": {
    "tags": []
   },
   "outputs": [
    {
     "name": "stdout",
     "output_type": "stream",
     "text": [
      "Negative 517.0\n",
      "Positive 214.0\n"
     ]
    }
   ],
   "source": [
    "# It seems that the negative reviews have bigger lenght than the positive ones\n",
    "\n",
    "for sentiment, group_data in restaurant_data.groupby(\"Sentiment\"):\n",
    "    print(sentiment, group_data.Review.str.len().median())"
   ]
  },
  {
   "cell_type": "markdown",
   "id": "7c440fff-c079-464c-b97d-fffbf3d65baf",
   "metadata": {},
   "source": [
    "### Problem 3. Preprocess the review content (2 points)\n",
    "You'll likely need to do this while working on the problems below, but try to synthesize (and document!) your preprocessing here. Your tasks will revolve around words and their connection to sentiment. While preprocessing, keep in mind the domain (restaurant reviews) and the task (sentiment analysis)."
   ]
  },
  {
   "cell_type": "code",
   "execution_count": 1694,
   "id": "7114fcf9-c63a-41b2-9ff9-591a15d2ebe5",
   "metadata": {
    "tags": []
   },
   "outputs": [],
   "source": [
    "# Clear missing values\n",
    "\n",
    "restaurant_data = restaurant_data.dropna(subset=[\"Review\", \"Sentiment\"])"
   ]
  },
  {
   "cell_type": "code",
   "execution_count": 1696,
   "id": "1aa4bdff-8de6-4232-9304-dea9ed981692",
   "metadata": {
    "tags": []
   },
   "outputs": [
    {
     "data": {
      "text/plain": [
       "0       The manager became agressive when I said the c...\n",
       "1       I ordered a beef fillet ask to be done medium,...\n",
       "2       This is an attractive venue with welcoming, al...\n",
       "3       Sadly I  used the high TripAdvisor rating too ...\n",
       "4       From the start this meal was bad- especially g...\n",
       "                              ...                        \n",
       "1497    Despite the other reviews saying that this is ...\n",
       "1498    beer is good.  food is awfull  The only decent...\n",
       "1499    for terrible service of a truly comedic level,...\n",
       "1500    We visited the Havana's Club Museum which is l...\n",
       "1501    Food and service was awful. Very pretty stop. ...\n",
       "Name: Review, Length: 1502, dtype: object"
      ]
     },
     "execution_count": 1696,
     "metadata": {},
     "output_type": "execute_result"
    }
   ],
   "source": [
    "restaurant_data.Review"
   ]
  },
  {
   "cell_type": "code",
   "execution_count": 1698,
   "id": "cef3ef6e-f7b0-4e79-9122-b460265606b2",
   "metadata": {
    "tags": []
   },
   "outputs": [],
   "source": [
    "# Text cleaning function\n",
    "\n",
    "def clean_text(text):\n",
    "    # Removing special characters and numbers\n",
    "    text = re.sub(r'[^a-zA-Z\\s]', '', text)\n",
    "    text = text.lower()\n",
    "    return text"
   ]
  },
  {
   "cell_type": "code",
   "execution_count": 1700,
   "id": "00209b30-ea20-458e-bef0-305859459594",
   "metadata": {
    "tags": []
   },
   "outputs": [],
   "source": [
    "# Apply text cleaning\n",
    "\n",
    "restaurant_data[\"Cleaned_Review\"] = restaurant_data[\"Review\"].apply(clean_text)"
   ]
  },
  {
   "cell_type": "code",
   "execution_count": 1702,
   "id": "61849429-4948-4131-986d-b437af56fa34",
   "metadata": {
    "tags": []
   },
   "outputs": [
    {
     "data": {
      "text/plain": [
       "0       the manager became agressive when i said the c...\n",
       "1       i ordered a beef fillet ask to be done medium ...\n",
       "2       this is an attractive venue with welcoming alb...\n",
       "3       sadly i  used the high tripadvisor rating too ...\n",
       "4       from the start this meal was bad especially gi...\n",
       "                              ...                        \n",
       "1497    despite the other reviews saying that this is ...\n",
       "1498    beer is good  food is awfull  the only decent ...\n",
       "1499    for terrible service of a truly comedic level ...\n",
       "1500    we visited the havanas club museum which is lo...\n",
       "1501    food and service was awful very pretty stop go...\n",
       "Name: Cleaned_Review, Length: 1502, dtype: object"
      ]
     },
     "execution_count": 1702,
     "metadata": {},
     "output_type": "execute_result"
    }
   ],
   "source": [
    "restaurant_data.Cleaned_Review"
   ]
  },
  {
   "cell_type": "code",
   "execution_count": 1704,
   "id": "7411f878-d4c9-4270-b3db-598465c5640e",
   "metadata": {
    "tags": []
   },
   "outputs": [],
   "source": [
    "# Tokenization\n",
    "\n",
    "restaurant_data[\"Review_Tokens\"] = restaurant_data[\"Cleaned_Review\"].apply(word_tokenize)"
   ]
  },
  {
   "cell_type": "code",
   "execution_count": 1706,
   "id": "1f0efacc-8675-4eaa-992e-9965e52beaa7",
   "metadata": {
    "tags": []
   },
   "outputs": [
    {
     "data": {
      "text/plain": [
       "0       [the, manager, became, agressive, when, i, sai...\n",
       "1       [i, ordered, a, beef, fillet, ask, to, be, don...\n",
       "2       [this, is, an, attractive, venue, with, welcom...\n",
       "3       [sadly, i, used, the, high, tripadvisor, ratin...\n",
       "4       [from, the, start, this, meal, was, bad, espec...\n",
       "                              ...                        \n",
       "1497    [despite, the, other, reviews, saying, that, t...\n",
       "1498    [beer, is, good, food, is, awfull, the, only, ...\n",
       "1499    [for, terrible, service, of, a, truly, comedic...\n",
       "1500    [we, visited, the, havanas, club, museum, whic...\n",
       "1501    [food, and, service, was, awful, very, pretty,...\n",
       "Name: Review_Tokens, Length: 1502, dtype: object"
      ]
     },
     "execution_count": 1706,
     "metadata": {},
     "output_type": "execute_result"
    }
   ],
   "source": [
    "restaurant_data.Review_Tokens"
   ]
  },
  {
   "cell_type": "code",
   "execution_count": 1708,
   "id": "63e365ca-0116-4f75-a08f-835e8c9117da",
   "metadata": {
    "tags": []
   },
   "outputs": [],
   "source": [
    "# Removing stop words\n",
    "\n",
    "stop_words = set(stopwords.words(\"english\"))\n",
    "\n",
    "def remove_stopwords(tokens):\n",
    "    return [word for word in tokens if word not in stop_words]\n",
    "\n",
    "# Remove stop words\n",
    "restaurant_data[\"Review_Tokens\"]  = restaurant_data[\"Review_Tokens\"].apply(remove_stopwords)"
   ]
  },
  {
   "cell_type": "code",
   "execution_count": 1710,
   "id": "c6ba1c2d-a5f2-4801-8335-cef029a33cca",
   "metadata": {
    "tags": []
   },
   "outputs": [
    {
     "data": {
      "text/plain": [
       "0       [manager, became, agressive, said, carbonara, ...\n",
       "1       [ordered, beef, fillet, ask, done, medium, got...\n",
       "2       [attractive, venue, welcoming, albeit, somewha...\n",
       "3       [sadly, used, high, tripadvisor, rating, liter...\n",
       "4       [start, meal, bad, especially, given, price, v...\n",
       "                              ...                        \n",
       "1497    [despite, reviews, saying, lovely, place, hang...\n",
       "1498    [beer, good, food, awfull, decent, thing, shis...\n",
       "1499    [terrible, service, truly, comedic, level, ful...\n",
       "1500    [visited, havanas, club, museum, located, old,...\n",
       "1501    [food, service, awful, pretty, stop, good, pho...\n",
       "Name: Review_Tokens, Length: 1502, dtype: object"
      ]
     },
     "execution_count": 1710,
     "metadata": {},
     "output_type": "execute_result"
    }
   ],
   "source": [
    "restaurant_data[\"Review_Tokens\"]"
   ]
  },
  {
   "cell_type": "markdown",
   "id": "2a8532af-2411-4d71-a003-0813be3f98de",
   "metadata": {},
   "source": [
    "### Problem 3. Top words (1 point)\n",
    "Use a simple word tokenization and count the top 10 words in positive reviews; then the top 10 words in negative reviews*. Once again, try to define what \"top\" words means. Describe and document your process. Explain your results.\n",
    "\n",
    "\\* Okay, you may want to see top N words (with $N \\ge 10$)."
   ]
  },
  {
   "cell_type": "code",
   "execution_count": 1712,
   "id": "faaa6dd4-251e-4e32-9137-cc6c984726be",
   "metadata": {
    "tags": []
   },
   "outputs": [],
   "source": [
    "positive = restaurant_data[restaurant_data[\"Sentiment\"] == \"Positive\"]\n",
    "negative = restaurant_data[restaurant_data[\"Sentiment\"] == \"Negative\"]"
   ]
  },
  {
   "cell_type": "code",
   "execution_count": 1714,
   "id": "415e97ee-de58-4863-b910-528448ff5358",
   "metadata": {
    "tags": []
   },
   "outputs": [],
   "source": [
    "# Count words\n",
    "\n",
    "def count_words(token_list):\n",
    "    counter = Counter()\n",
    "    for token in token_list:\n",
    "        counter.update(token)\n",
    "    return counter"
   ]
  },
  {
   "cell_type": "code",
   "execution_count": 1716,
   "id": "bb4d5fa2-8fdc-441e-807f-c26b2cff9d1c",
   "metadata": {
    "tags": []
   },
   "outputs": [],
   "source": [
    "# Count words in positive and negative reviews\n",
    "\n",
    "positive_words = count_words(positive[\"Review_Tokens\"])\n",
    "negative_words = count_words(negative[\"Review_Tokens\"])"
   ]
  },
  {
   "cell_type": "code",
   "execution_count": 1718,
   "id": "8370ac2d-e667-49eb-8d03-bbfff0198a58",
   "metadata": {
    "tags": []
   },
   "outputs": [],
   "source": [
    "# Number of top words to display\n",
    "N = 10\n",
    "\n",
    "# Get the top N words in positive and negative reviews\n",
    "top_positive_words = positive_words.most_common(N)\n",
    "top_negative_words = negative_words.most_common(N)"
   ]
  },
  {
   "cell_type": "code",
   "execution_count": 1720,
   "id": "c31d4684-40bc-45f2-8838-c596d4b296be",
   "metadata": {
    "tags": []
   },
   "outputs": [
    {
     "data": {
      "text/plain": [
       "[('food', 734),\n",
       " ('great', 570),\n",
       " ('service', 536),\n",
       " ('good', 510),\n",
       " ('place', 372),\n",
       " ('restaurant', 352),\n",
       " ('nice', 302),\n",
       " ('staff', 255),\n",
       " ('wine', 240),\n",
       " ('friendly', 234)]"
      ]
     },
     "execution_count": 1720,
     "metadata": {},
     "output_type": "execute_result"
    }
   ],
   "source": [
    "# I am not sure what to explain. The top words are related to the food and the service\n",
    "\n",
    "top_positive_words"
   ]
  },
  {
   "cell_type": "code",
   "execution_count": 1722,
   "id": "fe9c2dfe-f0ae-480c-81eb-f39396e180ed",
   "metadata": {
    "tags": []
   },
   "outputs": [
    {
     "data": {
      "text/plain": [
       "[('food', 245),\n",
       " ('us', 205),\n",
       " ('restaurant', 183),\n",
       " ('wine', 175),\n",
       " ('good', 151),\n",
       " ('table', 147),\n",
       " ('service', 146),\n",
       " ('one', 134),\n",
       " ('menu', 131),\n",
       " ('would', 127)]"
      ]
     },
     "execution_count": 1722,
     "metadata": {},
     "output_type": "execute_result"
    }
   ],
   "source": [
    "# Top 10 negative words are related to food and service as well. :)\n",
    "\n",
    "top_negative_words"
   ]
  },
  {
   "cell_type": "markdown",
   "id": "790ae91f-2def-41bc-8861-49fc5467b335",
   "metadata": {
    "tags": []
   },
   "source": [
    "### Problem 4. Review titles (2 point)\n",
    "How do the top words you found in the last problem correlate to the review titles? Do the top 10 words (for each sentiment) appear in the titles at all? Do reviews which contain one or more of the top words have the same words in their titles?\n",
    "\n",
    "Does the title of a comment present a good summary of its content? That is, are the titles descriptive, or are they simply meant to catch the attention of the reader?"
   ]
  },
  {
   "cell_type": "code",
   "execution_count": 1724,
   "id": "1cd48445-9335-4491-b9b3-f2b02959cc0e",
   "metadata": {
    "tags": []
   },
   "outputs": [],
   "source": [
    "# Cleaning neeeded columns\n",
    "\n",
    "restaurant_data = restaurant_data.dropna(subset=[\"Review_Tokens\", \"Review_Title\", \"Sentiment\"])"
   ]
  },
  {
   "cell_type": "code",
   "execution_count": 1726,
   "id": "cd6506d3-0355-4eb3-b27e-434b1271a657",
   "metadata": {
    "tags": []
   },
   "outputs": [],
   "source": [
    "# Cleaing the title as well\n",
    "\n",
    "restaurant_data[\"Cleaned_Title\"] = restaurant_data[\"Review_Title\"].apply(clean_text)"
   ]
  },
  {
   "cell_type": "code",
   "execution_count": 1728,
   "id": "963d2d62-2bf9-4bcc-9cf8-59335d926ef6",
   "metadata": {
    "tags": []
   },
   "outputs": [
    {
     "data": {
      "text/plain": [
       "0                                   rude manager\n",
       "1                           a big disappointment\n",
       "2                   pretty place with bland food\n",
       "3       great service and wine but inedible food\n",
       "4        avoid worst meal in rome  possibly ever\n",
       "                          ...                   \n",
       "1497                            the tourism trap\n",
       "1498                            the beer factory\n",
       "1499                                     brewery\n",
       "1500             its nothing exciting over there\n",
       "1501                                tourist trap\n",
       "Name: Cleaned_Title, Length: 1502, dtype: object"
      ]
     },
     "execution_count": 1728,
     "metadata": {},
     "output_type": "execute_result"
    }
   ],
   "source": [
    "restaurant_data[\"Cleaned_Title\"]"
   ]
  },
  {
   "cell_type": "code",
   "execution_count": 1730,
   "id": "b88d654f-448a-4254-bb4a-1221fe845601",
   "metadata": {
    "tags": []
   },
   "outputs": [],
   "source": [
    "restaurant_data[\"Title_Tokens\"] = restaurant_data[\"Cleaned_Title\"].apply(word_tokenize)"
   ]
  },
  {
   "cell_type": "code",
   "execution_count": 1732,
   "id": "c347c7ec-dbf2-43d6-98ae-c0eab6ebee68",
   "metadata": {
    "tags": []
   },
   "outputs": [],
   "source": [
    "restaurant_data[\"Title_Tokens\"] = restaurant_data[\"Title_Tokens\"].apply(remove_stopwords)"
   ]
  },
  {
   "cell_type": "code",
   "execution_count": 1734,
   "id": "eb8e5db8-c28c-4531-a045-02360493a9b7",
   "metadata": {
    "tags": []
   },
   "outputs": [],
   "source": [
    "lemmatizer = WordNetLemmatizer()"
   ]
  },
  {
   "cell_type": "code",
   "execution_count": 1736,
   "id": "868147bf-1c5e-410a-8b45-7892abd3faf0",
   "metadata": {
    "tags": []
   },
   "outputs": [],
   "source": [
    "# lemmatize tokens\n",
    "\n",
    "def lemmatize_tokens(tokens):\n",
    "    return [lemmatizer.lemmatize(token) for token in tokens]"
   ]
  },
  {
   "cell_type": "code",
   "execution_count": 646,
   "id": "23f9a576-1488-4571-96f1-897083f13726",
   "metadata": {
    "tags": []
   },
   "outputs": [
    {
     "name": "stderr",
     "output_type": "stream",
     "text": [
      "[nltk_data] Downloading package wordnet to\n",
      "[nltk_data]     /Users/miroslavamalkovska/nltk_data...\n",
      "[nltk_data]   Package wordnet is already up-to-date!\n"
     ]
    },
    {
     "data": {
      "text/plain": [
       "True"
      ]
     },
     "execution_count": 646,
     "metadata": {},
     "output_type": "execute_result"
    }
   ],
   "source": [
    "nltk.download('wordnet')"
   ]
  },
  {
   "cell_type": "code",
   "execution_count": 1738,
   "id": "addc25e6-d48e-4421-a744-754381e0e4a9",
   "metadata": {},
   "outputs": [],
   "source": [
    "restaurant_data[\"Review_Tokens\"] = restaurant_data[\"Review_Tokens\"].apply(lemmatize_tokens)"
   ]
  },
  {
   "cell_type": "code",
   "execution_count": 1740,
   "id": "7560ab99-ffda-4b48-a4e4-fb6db7fabf79",
   "metadata": {
    "tags": []
   },
   "outputs": [],
   "source": [
    "restaurant_data[\"Title_Tokens\"] = restaurant_data[\"Title_Tokens\"].apply(lemmatize_tokens)"
   ]
  },
  {
   "cell_type": "code",
   "execution_count": 1742,
   "id": "6fadb3a4-42ca-4002-90b7-09e79726fe79",
   "metadata": {
    "tags": []
   },
   "outputs": [
    {
     "data": {
      "text/plain": [
       "0                                  [rude, manager]\n",
       "1                            [big, disappointment]\n",
       "2                     [pretty, place, bland, food]\n",
       "3           [great, service, wine, inedible, food]\n",
       "4       [avoid, worst, meal, rome, possibly, ever]\n",
       "                           ...                    \n",
       "1497                               [tourism, trap]\n",
       "1498                               [beer, factory]\n",
       "1499                                     [brewery]\n",
       "1500                           [nothing, exciting]\n",
       "1501                               [tourist, trap]\n",
       "Name: Title_Tokens, Length: 1502, dtype: object"
      ]
     },
     "execution_count": 1742,
     "metadata": {},
     "output_type": "execute_result"
    }
   ],
   "source": [
    "restaurant_data[\"Title_Tokens\"]"
   ]
  },
  {
   "cell_type": "code",
   "execution_count": 1744,
   "id": "36970ba8-f087-46a7-9494-e7affec121c0",
   "metadata": {
    "tags": []
   },
   "outputs": [
    {
     "name": "stderr",
     "output_type": "stream",
     "text": [
      "[nltk_data] Downloading package omw-1.4 to\n",
      "[nltk_data]     /Users/miroslavamalkovska/nltk_data...\n",
      "[nltk_data]   Package omw-1.4 is already up-to-date!\n"
     ]
    },
    {
     "data": {
      "text/plain": [
       "True"
      ]
     },
     "execution_count": 1744,
     "metadata": {},
     "output_type": "execute_result"
    }
   ],
   "source": [
    "nltk.download('omw-1.4')"
   ]
  },
  {
   "cell_type": "code",
   "execution_count": 1746,
   "id": "5ee9792e-4ed2-41bc-bf0a-ae5b1fe5fe97",
   "metadata": {
    "tags": []
   },
   "outputs": [
    {
     "data": {
      "text/plain": [
       "0       [manager, became, agressive, said, carbonara, ...\n",
       "1       [ordered, beef, fillet, ask, done, medium, got...\n",
       "2       [attractive, venue, welcoming, albeit, somewha...\n",
       "3       [sadly, used, high, tripadvisor, rating, liter...\n",
       "4       [start, meal, bad, especially, given, price, v...\n",
       "                              ...                        \n",
       "1497    [despite, review, saying, lovely, place, hang,...\n",
       "1498    [beer, good, food, awfull, decent, thing, shis...\n",
       "1499    [terrible, service, truly, comedic, level, ful...\n",
       "1500    [visited, havana, club, museum, located, old, ...\n",
       "1501    [food, service, awful, pretty, stop, good, pho...\n",
       "Name: Review_Tokens, Length: 1502, dtype: object"
      ]
     },
     "execution_count": 1746,
     "metadata": {},
     "output_type": "execute_result"
    }
   ],
   "source": [
    "restaurant_data[\"Review_Tokens\"]"
   ]
  },
  {
   "cell_type": "code",
   "execution_count": 1748,
   "id": "8cfb891c-9ec0-4f0a-b127-14f67bcb1b0e",
   "metadata": {
    "tags": []
   },
   "outputs": [],
   "source": [
    "def check_common_words(tokens1, tokens2):\n",
    "    return bool(set(tokens1) & set(tokens2))"
   ]
  },
  {
   "cell_type": "code",
   "execution_count": 1750,
   "id": "fba3fd25-94a2-478e-b97e-bba76ad12e82",
   "metadata": {
    "tags": []
   },
   "outputs": [],
   "source": [
    "# Check for common words in review and the title\n",
    "\n",
    "restaurant_data[\"Common_Words\"] = restaurant_data.apply(lambda row: check_common_words(row[\"Review_Tokens\"], row[\"Title_Tokens\"]), axis=1)"
   ]
  },
  {
   "cell_type": "code",
   "execution_count": 1752,
   "id": "6ad397fa-5e31-4d11-af9f-573461259f1b",
   "metadata": {
    "tags": []
   },
   "outputs": [
    {
     "data": {
      "text/plain": [
       "Common_Words\n",
       "True     991\n",
       "False    511\n",
       "Name: count, dtype: int64"
      ]
     },
     "execution_count": 1752,
     "metadata": {},
     "output_type": "execute_result"
    }
   ],
   "source": [
    "# How many are common and how many are not\n",
    "\n",
    "restaurant_data[\"Common_Words\"].value_counts()"
   ]
  },
  {
   "cell_type": "code",
   "execution_count": 1754,
   "id": "2d462cef-d5f5-4b9a-b7d5-a85884f51267",
   "metadata": {
    "tags": []
   },
   "outputs": [
    {
     "data": {
      "text/html": [
       "<div>\n",
       "<style scoped>\n",
       "    .dataframe tbody tr th:only-of-type {\n",
       "        vertical-align: middle;\n",
       "    }\n",
       "\n",
       "    .dataframe tbody tr th {\n",
       "        vertical-align: top;\n",
       "    }\n",
       "\n",
       "    .dataframe thead th {\n",
       "        text-align: right;\n",
       "    }\n",
       "</style>\n",
       "<table border=\"1\" class=\"dataframe\">\n",
       "  <thead>\n",
       "    <tr style=\"text-align: right;\">\n",
       "      <th></th>\n",
       "      <th>Review_Tokens</th>\n",
       "      <th>Title_Tokens</th>\n",
       "      <th>Common_Words</th>\n",
       "    </tr>\n",
       "  </thead>\n",
       "  <tbody>\n",
       "    <tr>\n",
       "      <th>0</th>\n",
       "      <td>[manager, became, agressive, said, carbonara, ...</td>\n",
       "      <td>[rude, manager]</td>\n",
       "      <td>True</td>\n",
       "    </tr>\n",
       "    <tr>\n",
       "      <th>1</th>\n",
       "      <td>[ordered, beef, fillet, ask, done, medium, got...</td>\n",
       "      <td>[big, disappointment]</td>\n",
       "      <td>False</td>\n",
       "    </tr>\n",
       "    <tr>\n",
       "      <th>2</th>\n",
       "      <td>[attractive, venue, welcoming, albeit, somewha...</td>\n",
       "      <td>[pretty, place, bland, food]</td>\n",
       "      <td>True</td>\n",
       "    </tr>\n",
       "    <tr>\n",
       "      <th>3</th>\n",
       "      <td>[sadly, used, high, tripadvisor, rating, liter...</td>\n",
       "      <td>[great, service, wine, inedible, food]</td>\n",
       "      <td>True</td>\n",
       "    </tr>\n",
       "    <tr>\n",
       "      <th>4</th>\n",
       "      <td>[start, meal, bad, especially, given, price, v...</td>\n",
       "      <td>[avoid, worst, meal, rome, possibly, ever]</td>\n",
       "      <td>True</td>\n",
       "    </tr>\n",
       "    <tr>\n",
       "      <th>...</th>\n",
       "      <td>...</td>\n",
       "      <td>...</td>\n",
       "      <td>...</td>\n",
       "    </tr>\n",
       "    <tr>\n",
       "      <th>1497</th>\n",
       "      <td>[despite, review, saying, lovely, place, hang,...</td>\n",
       "      <td>[tourism, trap]</td>\n",
       "      <td>False</td>\n",
       "    </tr>\n",
       "    <tr>\n",
       "      <th>1498</th>\n",
       "      <td>[beer, good, food, awfull, decent, thing, shis...</td>\n",
       "      <td>[beer, factory]</td>\n",
       "      <td>True</td>\n",
       "    </tr>\n",
       "    <tr>\n",
       "      <th>1499</th>\n",
       "      <td>[terrible, service, truly, comedic, level, ful...</td>\n",
       "      <td>[brewery]</td>\n",
       "      <td>False</td>\n",
       "    </tr>\n",
       "    <tr>\n",
       "      <th>1500</th>\n",
       "      <td>[visited, havana, club, museum, located, old, ...</td>\n",
       "      <td>[nothing, exciting]</td>\n",
       "      <td>False</td>\n",
       "    </tr>\n",
       "    <tr>\n",
       "      <th>1501</th>\n",
       "      <td>[food, service, awful, pretty, stop, good, pho...</td>\n",
       "      <td>[tourist, trap]</td>\n",
       "      <td>False</td>\n",
       "    </tr>\n",
       "  </tbody>\n",
       "</table>\n",
       "<p>1502 rows × 3 columns</p>\n",
       "</div>"
      ],
      "text/plain": [
       "                                          Review_Tokens  \\\n",
       "0     [manager, became, agressive, said, carbonara, ...   \n",
       "1     [ordered, beef, fillet, ask, done, medium, got...   \n",
       "2     [attractive, venue, welcoming, albeit, somewha...   \n",
       "3     [sadly, used, high, tripadvisor, rating, liter...   \n",
       "4     [start, meal, bad, especially, given, price, v...   \n",
       "...                                                 ...   \n",
       "1497  [despite, review, saying, lovely, place, hang,...   \n",
       "1498  [beer, good, food, awfull, decent, thing, shis...   \n",
       "1499  [terrible, service, truly, comedic, level, ful...   \n",
       "1500  [visited, havana, club, museum, located, old, ...   \n",
       "1501  [food, service, awful, pretty, stop, good, pho...   \n",
       "\n",
       "                                    Title_Tokens  Common_Words  \n",
       "0                                [rude, manager]          True  \n",
       "1                          [big, disappointment]         False  \n",
       "2                   [pretty, place, bland, food]          True  \n",
       "3         [great, service, wine, inedible, food]          True  \n",
       "4     [avoid, worst, meal, rome, possibly, ever]          True  \n",
       "...                                          ...           ...  \n",
       "1497                             [tourism, trap]         False  \n",
       "1498                             [beer, factory]          True  \n",
       "1499                                   [brewery]         False  \n",
       "1500                         [nothing, exciting]         False  \n",
       "1501                             [tourist, trap]         False  \n",
       "\n",
       "[1502 rows x 3 columns]"
      ]
     },
     "execution_count": 1754,
     "metadata": {},
     "output_type": "execute_result"
    }
   ],
   "source": [
    "restaurant_data[[\"Review_Tokens\", \"Title_Tokens\", \"Common_Words\"]]"
   ]
  },
  {
   "cell_type": "code",
   "execution_count": 1756,
   "id": "72b1b65a-5c34-4e76-9c9a-b2f5cb2dad80",
   "metadata": {
    "tags": []
   },
   "outputs": [],
   "source": [
    "# Count and proportion of reviews with common words between reviews and titles\n",
    "\n",
    "common_words_count = restaurant_data[\"Common_Words\"].sum()\n",
    "total_reviews = len(restaurant_data[\"Review_Tokens\"])\n",
    "common_words_proportion = common_words_count / total_reviews"
   ]
  },
  {
   "cell_type": "code",
   "execution_count": 1758,
   "id": "c099249c-898e-4d8e-a5a3-6fbb8e5e4581",
   "metadata": {
    "tags": []
   },
   "outputs": [
    {
     "data": {
      "text/plain": [
       "0.6597869507323568"
      ]
     },
     "execution_count": 1758,
     "metadata": {},
     "output_type": "execute_result"
    }
   ],
   "source": [
    "# It seems that there is more than the half correlation between the words in the titles and the content\n",
    "\n",
    "common_words_proportion"
   ]
  },
  {
   "cell_type": "code",
   "execution_count": 1760,
   "id": "3ee0bf57-8042-41af-86b5-0287c67563cd",
   "metadata": {
    "tags": []
   },
   "outputs": [
    {
     "data": {
      "text/plain": [
       "65.97869507323568"
      ]
     },
     "execution_count": 1760,
     "metadata": {},
     "output_type": "execute_result"
    }
   ],
   "source": [
    "# In percentage:\n",
    "\n",
    "common_words_proportion * 100"
   ]
  },
  {
   "cell_type": "markdown",
   "id": "a3a0aa94-23e4-4db1-a780-cd1bd3abb411",
   "metadata": {},
   "source": [
    "### Problem 5. Bag of words (1 point)\n",
    "Based on your findings so far, come up with a good set of settings (hyperparameters) for a bag-of-words model for review titles and contents. It's easiest to treat them separately (so, create two models); but you may also think about a unified representation. I find the simplest way of concatenating the title and content too simplistic to be useful, as it doesn't allow you to treat the title differently (e.g., by giving it more weight).\n",
    "\n",
    "The documentation for `CountVectorizer` is [here](https://scikit-learn.org/stable/modules/generated/sklearn.feature_extraction.text.CountVectorizer.html). Familiarize yourself with all settings; try out different combinations and come up with a final model; or rather - two models :)."
   ]
  },
  {
   "cell_type": "code",
   "execution_count": 1762,
   "id": "32510eab-e569-4768-a59b-acfbc1548cfd",
   "metadata": {
    "tags": []
   },
   "outputs": [],
   "source": [
    "restaurant_data.columns = restaurant_data.columns.str.lower()"
   ]
  },
  {
   "cell_type": "code",
   "execution_count": 1764,
   "id": "a49febc1-2995-43f4-8156-dd19911cd4f9",
   "metadata": {
    "collapsed": true,
    "jupyter": {
     "outputs_hidden": true
    },
    "tags": []
   },
   "outputs": [
    {
     "data": {
      "text/html": [
       "<div>\n",
       "<style scoped>\n",
       "    .dataframe tbody tr th:only-of-type {\n",
       "        vertical-align: middle;\n",
       "    }\n",
       "\n",
       "    .dataframe tbody tr th {\n",
       "        vertical-align: top;\n",
       "    }\n",
       "\n",
       "    .dataframe thead th {\n",
       "        text-align: right;\n",
       "    }\n",
       "</style>\n",
       "<table border=\"1\" class=\"dataframe\">\n",
       "  <thead>\n",
       "    <tr style=\"text-align: right;\">\n",
       "      <th></th>\n",
       "      <th>country</th>\n",
       "      <th>restaurant_name</th>\n",
       "      <th>sentiment</th>\n",
       "      <th>review_title</th>\n",
       "      <th>review</th>\n",
       "      <th>review_date</th>\n",
       "      <th>cleaned_review</th>\n",
       "      <th>review_tokens</th>\n",
       "      <th>cleaned_title</th>\n",
       "      <th>title_tokens</th>\n",
       "      <th>common_words</th>\n",
       "    </tr>\n",
       "  </thead>\n",
       "  <tbody>\n",
       "    <tr>\n",
       "      <th>0</th>\n",
       "      <td>France</td>\n",
       "      <td>The Frog at Bercy Village</td>\n",
       "      <td>Negative</td>\n",
       "      <td>Rude manager</td>\n",
       "      <td>The manager became agressive when I said the c...</td>\n",
       "      <td>2024-05-01</td>\n",
       "      <td>the manager became agressive when i said the c...</td>\n",
       "      <td>[manager, became, agressive, said, carbonara, ...</td>\n",
       "      <td>rude manager</td>\n",
       "      <td>[rude, manager]</td>\n",
       "      <td>True</td>\n",
       "    </tr>\n",
       "    <tr>\n",
       "      <th>1</th>\n",
       "      <td>France</td>\n",
       "      <td>The Frog at Bercy Village</td>\n",
       "      <td>Negative</td>\n",
       "      <td>A big disappointment</td>\n",
       "      <td>I ordered a beef fillet ask to be done medium,...</td>\n",
       "      <td>2024-02-01</td>\n",
       "      <td>i ordered a beef fillet ask to be done medium ...</td>\n",
       "      <td>[ordered, beef, fillet, ask, done, medium, got...</td>\n",
       "      <td>a big disappointment</td>\n",
       "      <td>[big, disappointment]</td>\n",
       "      <td>False</td>\n",
       "    </tr>\n",
       "    <tr>\n",
       "      <th>2</th>\n",
       "      <td>France</td>\n",
       "      <td>The Frog at Bercy Village</td>\n",
       "      <td>Negative</td>\n",
       "      <td>Pretty Place with Bland Food</td>\n",
       "      <td>This is an attractive venue with welcoming, al...</td>\n",
       "      <td>2023-11-01</td>\n",
       "      <td>this is an attractive venue with welcoming alb...</td>\n",
       "      <td>[attractive, venue, welcoming, albeit, somewha...</td>\n",
       "      <td>pretty place with bland food</td>\n",
       "      <td>[pretty, place, bland, food]</td>\n",
       "      <td>True</td>\n",
       "    </tr>\n",
       "    <tr>\n",
       "      <th>3</th>\n",
       "      <td>France</td>\n",
       "      <td>The Frog at Bercy Village</td>\n",
       "      <td>Negative</td>\n",
       "      <td>Great service and wine but inedible food</td>\n",
       "      <td>Sadly I  used the high TripAdvisor rating too ...</td>\n",
       "      <td>2023-03-01</td>\n",
       "      <td>sadly i  used the high tripadvisor rating too ...</td>\n",
       "      <td>[sadly, used, high, tripadvisor, rating, liter...</td>\n",
       "      <td>great service and wine but inedible food</td>\n",
       "      <td>[great, service, wine, inedible, food]</td>\n",
       "      <td>True</td>\n",
       "    </tr>\n",
       "    <tr>\n",
       "      <th>4</th>\n",
       "      <td>France</td>\n",
       "      <td>The Frog at Bercy Village</td>\n",
       "      <td>Negative</td>\n",
       "      <td>Avoid- Worst meal in Rome - possibly ever</td>\n",
       "      <td>From the start this meal was bad- especially g...</td>\n",
       "      <td>2022-11-01</td>\n",
       "      <td>from the start this meal was bad especially gi...</td>\n",
       "      <td>[start, meal, bad, especially, given, price, v...</td>\n",
       "      <td>avoid worst meal in rome  possibly ever</td>\n",
       "      <td>[avoid, worst, meal, rome, possibly, ever]</td>\n",
       "      <td>True</td>\n",
       "    </tr>\n",
       "    <tr>\n",
       "      <th>...</th>\n",
       "      <td>...</td>\n",
       "      <td>...</td>\n",
       "      <td>...</td>\n",
       "      <td>...</td>\n",
       "      <td>...</td>\n",
       "      <td>...</td>\n",
       "      <td>...</td>\n",
       "      <td>...</td>\n",
       "      <td>...</td>\n",
       "      <td>...</td>\n",
       "      <td>...</td>\n",
       "    </tr>\n",
       "    <tr>\n",
       "      <th>1497</th>\n",
       "      <td>Cuba</td>\n",
       "      <td>Old Square (Plaza Vieja)</td>\n",
       "      <td>Negative</td>\n",
       "      <td>The Tourism Trap</td>\n",
       "      <td>Despite the other reviews saying that this is ...</td>\n",
       "      <td>2016-10-01</td>\n",
       "      <td>despite the other reviews saying that this is ...</td>\n",
       "      <td>[despite, review, saying, lovely, place, hang,...</td>\n",
       "      <td>the tourism trap</td>\n",
       "      <td>[tourism, trap]</td>\n",
       "      <td>False</td>\n",
       "    </tr>\n",
       "    <tr>\n",
       "      <th>1498</th>\n",
       "      <td>Cuba</td>\n",
       "      <td>Old Square (Plaza Vieja)</td>\n",
       "      <td>Negative</td>\n",
       "      <td>the beer factory</td>\n",
       "      <td>beer is good.  food is awfull  The only decent...</td>\n",
       "      <td>2016-10-01</td>\n",
       "      <td>beer is good  food is awfull  the only decent ...</td>\n",
       "      <td>[beer, good, food, awfull, decent, thing, shis...</td>\n",
       "      <td>the beer factory</td>\n",
       "      <td>[beer, factory]</td>\n",
       "      <td>True</td>\n",
       "    </tr>\n",
       "    <tr>\n",
       "      <th>1499</th>\n",
       "      <td>Cuba</td>\n",
       "      <td>Old Square (Plaza Vieja)</td>\n",
       "      <td>Negative</td>\n",
       "      <td>brewery</td>\n",
       "      <td>for terrible service of a truly comedic level,...</td>\n",
       "      <td>2016-10-01</td>\n",
       "      <td>for terrible service of a truly comedic level ...</td>\n",
       "      <td>[terrible, service, truly, comedic, level, ful...</td>\n",
       "      <td>brewery</td>\n",
       "      <td>[brewery]</td>\n",
       "      <td>False</td>\n",
       "    </tr>\n",
       "    <tr>\n",
       "      <th>1500</th>\n",
       "      <td>Cuba</td>\n",
       "      <td>Old Square (Plaza Vieja)</td>\n",
       "      <td>Negative</td>\n",
       "      <td>It's nothing exciting over there</td>\n",
       "      <td>We visited the Havana's Club Museum which is l...</td>\n",
       "      <td>2016-10-01</td>\n",
       "      <td>we visited the havanas club museum which is lo...</td>\n",
       "      <td>[visited, havana, club, museum, located, old, ...</td>\n",
       "      <td>its nothing exciting over there</td>\n",
       "      <td>[nothing, exciting]</td>\n",
       "      <td>False</td>\n",
       "    </tr>\n",
       "    <tr>\n",
       "      <th>1501</th>\n",
       "      <td>Cuba</td>\n",
       "      <td>Old Square (Plaza Vieja)</td>\n",
       "      <td>Negative</td>\n",
       "      <td>Tourist Trap</td>\n",
       "      <td>Food and service was awful. Very pretty stop. ...</td>\n",
       "      <td>2016-10-01</td>\n",
       "      <td>food and service was awful very pretty stop go...</td>\n",
       "      <td>[food, service, awful, pretty, stop, good, pho...</td>\n",
       "      <td>tourist trap</td>\n",
       "      <td>[tourist, trap]</td>\n",
       "      <td>False</td>\n",
       "    </tr>\n",
       "  </tbody>\n",
       "</table>\n",
       "<p>1502 rows × 11 columns</p>\n",
       "</div>"
      ],
      "text/plain": [
       "     country            restaurant_name sentiment  \\\n",
       "0     France  The Frog at Bercy Village  Negative   \n",
       "1     France  The Frog at Bercy Village  Negative   \n",
       "2     France  The Frog at Bercy Village  Negative   \n",
       "3     France  The Frog at Bercy Village  Negative   \n",
       "4     France  The Frog at Bercy Village  Negative   \n",
       "...      ...                        ...       ...   \n",
       "1497    Cuba   Old Square (Plaza Vieja)  Negative   \n",
       "1498    Cuba   Old Square (Plaza Vieja)  Negative   \n",
       "1499    Cuba   Old Square (Plaza Vieja)  Negative   \n",
       "1500    Cuba   Old Square (Plaza Vieja)  Negative   \n",
       "1501    Cuba   Old Square (Plaza Vieja)  Negative   \n",
       "\n",
       "                                   review_title  \\\n",
       "0                                  Rude manager   \n",
       "1                          A big disappointment   \n",
       "2                  Pretty Place with Bland Food   \n",
       "3      Great service and wine but inedible food   \n",
       "4     Avoid- Worst meal in Rome - possibly ever   \n",
       "...                                         ...   \n",
       "1497                           The Tourism Trap   \n",
       "1498                           the beer factory   \n",
       "1499                                    brewery   \n",
       "1500           It's nothing exciting over there   \n",
       "1501                               Tourist Trap   \n",
       "\n",
       "                                                 review review_date  \\\n",
       "0     The manager became agressive when I said the c...  2024-05-01   \n",
       "1     I ordered a beef fillet ask to be done medium,...  2024-02-01   \n",
       "2     This is an attractive venue with welcoming, al...  2023-11-01   \n",
       "3     Sadly I  used the high TripAdvisor rating too ...  2023-03-01   \n",
       "4     From the start this meal was bad- especially g...  2022-11-01   \n",
       "...                                                 ...         ...   \n",
       "1497  Despite the other reviews saying that this is ...  2016-10-01   \n",
       "1498  beer is good.  food is awfull  The only decent...  2016-10-01   \n",
       "1499  for terrible service of a truly comedic level,...  2016-10-01   \n",
       "1500  We visited the Havana's Club Museum which is l...  2016-10-01   \n",
       "1501  Food and service was awful. Very pretty stop. ...  2016-10-01   \n",
       "\n",
       "                                         cleaned_review  \\\n",
       "0     the manager became agressive when i said the c...   \n",
       "1     i ordered a beef fillet ask to be done medium ...   \n",
       "2     this is an attractive venue with welcoming alb...   \n",
       "3     sadly i  used the high tripadvisor rating too ...   \n",
       "4     from the start this meal was bad especially gi...   \n",
       "...                                                 ...   \n",
       "1497  despite the other reviews saying that this is ...   \n",
       "1498  beer is good  food is awfull  the only decent ...   \n",
       "1499  for terrible service of a truly comedic level ...   \n",
       "1500  we visited the havanas club museum which is lo...   \n",
       "1501  food and service was awful very pretty stop go...   \n",
       "\n",
       "                                          review_tokens  \\\n",
       "0     [manager, became, agressive, said, carbonara, ...   \n",
       "1     [ordered, beef, fillet, ask, done, medium, got...   \n",
       "2     [attractive, venue, welcoming, albeit, somewha...   \n",
       "3     [sadly, used, high, tripadvisor, rating, liter...   \n",
       "4     [start, meal, bad, especially, given, price, v...   \n",
       "...                                                 ...   \n",
       "1497  [despite, review, saying, lovely, place, hang,...   \n",
       "1498  [beer, good, food, awfull, decent, thing, shis...   \n",
       "1499  [terrible, service, truly, comedic, level, ful...   \n",
       "1500  [visited, havana, club, museum, located, old, ...   \n",
       "1501  [food, service, awful, pretty, stop, good, pho...   \n",
       "\n",
       "                                 cleaned_title  \\\n",
       "0                                 rude manager   \n",
       "1                         a big disappointment   \n",
       "2                 pretty place with bland food   \n",
       "3     great service and wine but inedible food   \n",
       "4      avoid worst meal in rome  possibly ever   \n",
       "...                                        ...   \n",
       "1497                          the tourism trap   \n",
       "1498                          the beer factory   \n",
       "1499                                   brewery   \n",
       "1500           its nothing exciting over there   \n",
       "1501                              tourist trap   \n",
       "\n",
       "                                    title_tokens  common_words  \n",
       "0                                [rude, manager]          True  \n",
       "1                          [big, disappointment]         False  \n",
       "2                   [pretty, place, bland, food]          True  \n",
       "3         [great, service, wine, inedible, food]          True  \n",
       "4     [avoid, worst, meal, rome, possibly, ever]          True  \n",
       "...                                          ...           ...  \n",
       "1497                             [tourism, trap]         False  \n",
       "1498                             [beer, factory]          True  \n",
       "1499                                   [brewery]         False  \n",
       "1500                         [nothing, exciting]         False  \n",
       "1501                             [tourist, trap]         False  \n",
       "\n",
       "[1502 rows x 11 columns]"
      ]
     },
     "execution_count": 1764,
     "metadata": {},
     "output_type": "execute_result"
    }
   ],
   "source": [
    "restaurant_data"
   ]
  },
  {
   "cell_type": "code",
   "execution_count": 1806,
   "id": "fb21ad4f-1639-463f-9056-cdb4c6da4464",
   "metadata": {
    "tags": []
   },
   "outputs": [],
   "source": [
    "vectorizer_title = CountVectorizer()\n",
    "vectorizer_content = CountVectorizer()"
   ]
  },
  {
   "cell_type": "code",
   "execution_count": 1768,
   "id": "1bbf59f6-88fa-453c-b18e-cbefa0096c58",
   "metadata": {
    "tags": []
   },
   "outputs": [],
   "source": [
    "restaurant_data[\"title_tokens_fit\"] = restaurant_data[\"title_tokens\"].map(' '.join)"
   ]
  },
  {
   "cell_type": "code",
   "execution_count": 1770,
   "id": "cd65d038-02e4-4f63-a31b-a2fa8a45ae10",
   "metadata": {
    "tags": []
   },
   "outputs": [],
   "source": [
    "restaurant_data[\"review_tokens_fit\"] = restaurant_data[\"review_tokens\"].map(' '.join)"
   ]
  },
  {
   "cell_type": "code",
   "execution_count": 1830,
   "id": "62df60f5-ee48-4411-95bd-478535489f29",
   "metadata": {
    "tags": []
   },
   "outputs": [
    {
     "data": {
      "text/plain": [
       "0                              rude manager\n",
       "1                        big disappointment\n",
       "2                   pretty place bland food\n",
       "3          great service wine inedible food\n",
       "4       avoid worst meal rome possibly ever\n",
       "                       ...                 \n",
       "1497                           tourism trap\n",
       "1498                           beer factory\n",
       "1499                                brewery\n",
       "1500                       nothing exciting\n",
       "1501                           tourist trap\n",
       "Name: title_tokens_fit, Length: 1502, dtype: object"
      ]
     },
     "execution_count": 1830,
     "metadata": {},
     "output_type": "execute_result"
    }
   ],
   "source": [
    "restaurant_data[\"title_tokens_fit\"] "
   ]
  },
  {
   "cell_type": "code",
   "execution_count": 1808,
   "id": "c0896fe4-7b9b-466a-a9b3-d8ce59af415b",
   "metadata": {
    "tags": []
   },
   "outputs": [],
   "source": [
    "x_title = vectorizer_title.fit_transform(restaurant_data[\"title_tokens_fit\"])"
   ]
  },
  {
   "cell_type": "code",
   "execution_count": 1810,
   "id": "2924f16f-34a4-4f6a-88a7-7fed8d0ba055",
   "metadata": {
    "tags": []
   },
   "outputs": [],
   "source": [
    "y_review = vectorizer_content.fit_transform(restaurant_data[\"review_tokens_fit\"])"
   ]
  },
  {
   "cell_type": "code",
   "execution_count": 1832,
   "id": "ba477a53-4873-4660-af04-ab5f47bf20ae",
   "metadata": {
    "tags": []
   },
   "outputs": [
    {
     "data": {
      "text/plain": [
       "<1502x1000 sparse matrix of type '<class 'numpy.int64'>'\n",
       "\twith 4391 stored elements in Compressed Sparse Row format>"
      ]
     },
     "execution_count": 1832,
     "metadata": {},
     "output_type": "execute_result"
    }
   ],
   "source": [
    "x_title"
   ]
  },
  {
   "cell_type": "code",
   "execution_count": 1834,
   "id": "5f3bf697-2dc0-403a-9972-3800250a60d0",
   "metadata": {
    "tags": []
   },
   "outputs": [
    {
     "data": {
      "text/plain": [
       "<1502x5813 sparse matrix of type '<class 'numpy.int64'>'\n",
       "\twith 44916 stored elements in Compressed Sparse Row format>"
      ]
     },
     "execution_count": 1834,
     "metadata": {},
     "output_type": "execute_result"
    }
   ],
   "source": [
    "y_review"
   ]
  },
  {
   "cell_type": "code",
   "execution_count": 1812,
   "id": "92878397-4f62-439c-808c-855f0adab2a8",
   "metadata": {
    "tags": []
   },
   "outputs": [
    {
     "data": {
      "text/plain": [
       "(1502, 5813)"
      ]
     },
     "execution_count": 1812,
     "metadata": {},
     "output_type": "execute_result"
    }
   ],
   "source": [
    "y_review.shape"
   ]
  },
  {
   "cell_type": "code",
   "execution_count": 1814,
   "id": "371e6815-d671-4f94-a383-cf6d190bdf7e",
   "metadata": {
    "tags": []
   },
   "outputs": [
    {
     "data": {
      "text/plain": [
       "(1502, 1000)"
      ]
     },
     "execution_count": 1814,
     "metadata": {},
     "output_type": "execute_result"
    }
   ],
   "source": [
    "x_title.shape"
   ]
  },
  {
   "cell_type": "code",
   "execution_count": 1836,
   "id": "6acb408e-e534-453c-9319-19e0964807e4",
   "metadata": {
    "tags": []
   },
   "outputs": [],
   "source": [
    "# Adjust the number of topics as needed\n",
    "\n",
    "lda_title = LatentDirichletAllocation(n_components=5, random_state=50)  \n",
    "lda_content = LatentDirichletAllocation(n_components=50, random_state=150)  "
   ]
  },
  {
   "cell_type": "code",
   "execution_count": 1838,
   "id": "0f6eb98b-b275-4900-871a-004f5763eed6",
   "metadata": {
    "tags": []
   },
   "outputs": [
    {
     "data": {
      "text/html": [
       "<style>#sk-container-id-19 {color: black;background-color: white;}#sk-container-id-19 pre{padding: 0;}#sk-container-id-19 div.sk-toggleable {background-color: white;}#sk-container-id-19 label.sk-toggleable__label {cursor: pointer;display: block;width: 100%;margin-bottom: 0;padding: 0.3em;box-sizing: border-box;text-align: center;}#sk-container-id-19 label.sk-toggleable__label-arrow:before {content: \"▸\";float: left;margin-right: 0.25em;color: #696969;}#sk-container-id-19 label.sk-toggleable__label-arrow:hover:before {color: black;}#sk-container-id-19 div.sk-estimator:hover label.sk-toggleable__label-arrow:before {color: black;}#sk-container-id-19 div.sk-toggleable__content {max-height: 0;max-width: 0;overflow: hidden;text-align: left;background-color: #f0f8ff;}#sk-container-id-19 div.sk-toggleable__content pre {margin: 0.2em;color: black;border-radius: 0.25em;background-color: #f0f8ff;}#sk-container-id-19 input.sk-toggleable__control:checked~div.sk-toggleable__content {max-height: 200px;max-width: 100%;overflow: auto;}#sk-container-id-19 input.sk-toggleable__control:checked~label.sk-toggleable__label-arrow:before {content: \"▾\";}#sk-container-id-19 div.sk-estimator input.sk-toggleable__control:checked~label.sk-toggleable__label {background-color: #d4ebff;}#sk-container-id-19 div.sk-label input.sk-toggleable__control:checked~label.sk-toggleable__label {background-color: #d4ebff;}#sk-container-id-19 input.sk-hidden--visually {border: 0;clip: rect(1px 1px 1px 1px);clip: rect(1px, 1px, 1px, 1px);height: 1px;margin: -1px;overflow: hidden;padding: 0;position: absolute;width: 1px;}#sk-container-id-19 div.sk-estimator {font-family: monospace;background-color: #f0f8ff;border: 1px dotted black;border-radius: 0.25em;box-sizing: border-box;margin-bottom: 0.5em;}#sk-container-id-19 div.sk-estimator:hover {background-color: #d4ebff;}#sk-container-id-19 div.sk-parallel-item::after {content: \"\";width: 100%;border-bottom: 1px solid gray;flex-grow: 1;}#sk-container-id-19 div.sk-label:hover label.sk-toggleable__label {background-color: #d4ebff;}#sk-container-id-19 div.sk-serial::before {content: \"\";position: absolute;border-left: 1px solid gray;box-sizing: border-box;top: 0;bottom: 0;left: 50%;z-index: 0;}#sk-container-id-19 div.sk-serial {display: flex;flex-direction: column;align-items: center;background-color: white;padding-right: 0.2em;padding-left: 0.2em;position: relative;}#sk-container-id-19 div.sk-item {position: relative;z-index: 1;}#sk-container-id-19 div.sk-parallel {display: flex;align-items: stretch;justify-content: center;background-color: white;position: relative;}#sk-container-id-19 div.sk-item::before, #sk-container-id-19 div.sk-parallel-item::before {content: \"\";position: absolute;border-left: 1px solid gray;box-sizing: border-box;top: 0;bottom: 0;left: 50%;z-index: -1;}#sk-container-id-19 div.sk-parallel-item {display: flex;flex-direction: column;z-index: 1;position: relative;background-color: white;}#sk-container-id-19 div.sk-parallel-item:first-child::after {align-self: flex-end;width: 50%;}#sk-container-id-19 div.sk-parallel-item:last-child::after {align-self: flex-start;width: 50%;}#sk-container-id-19 div.sk-parallel-item:only-child::after {width: 0;}#sk-container-id-19 div.sk-dashed-wrapped {border: 1px dashed gray;margin: 0 0.4em 0.5em 0.4em;box-sizing: border-box;padding-bottom: 0.4em;background-color: white;}#sk-container-id-19 div.sk-label label {font-family: monospace;font-weight: bold;display: inline-block;line-height: 1.2em;}#sk-container-id-19 div.sk-label-container {text-align: center;}#sk-container-id-19 div.sk-container {/* jupyter's `normalize.less` sets `[hidden] { display: none; }` but bootstrap.min.css set `[hidden] { display: none !important; }` so we also need the `!important` here to be able to override the default hidden behavior on the sphinx rendered scikit-learn.org. See: https://github.com/scikit-learn/scikit-learn/issues/21755 */display: inline-block !important;position: relative;}#sk-container-id-19 div.sk-text-repr-fallback {display: none;}</style><div id=\"sk-container-id-19\" class=\"sk-top-container\"><div class=\"sk-text-repr-fallback\"><pre>LatentDirichletAllocation(n_components=50, random_state=150)</pre><b>In a Jupyter environment, please rerun this cell to show the HTML representation or trust the notebook. <br />On GitHub, the HTML representation is unable to render, please try loading this page with nbviewer.org.</b></div><div class=\"sk-container\" hidden><div class=\"sk-item\"><div class=\"sk-estimator sk-toggleable\"><input class=\"sk-toggleable__control sk-hidden--visually\" id=\"sk-estimator-id-19\" type=\"checkbox\" checked><label for=\"sk-estimator-id-19\" class=\"sk-toggleable__label sk-toggleable__label-arrow\">LatentDirichletAllocation</label><div class=\"sk-toggleable__content\"><pre>LatentDirichletAllocation(n_components=50, random_state=150)</pre></div></div></div></div></div>"
      ],
      "text/plain": [
       "LatentDirichletAllocation(n_components=50, random_state=150)"
      ]
     },
     "execution_count": 1838,
     "metadata": {},
     "output_type": "execute_result"
    }
   ],
   "source": [
    "# Fit the models\n",
    "lda_title.fit(x_title)\n",
    "lda_content.fit(y_review)"
   ]
  },
  {
   "cell_type": "code",
   "execution_count": 1868,
   "id": "6462e382-ea06-4fcc-83c4-36d724e4a3ea",
   "metadata": {
    "tags": []
   },
   "outputs": [],
   "source": [
    "# Display the Topics\n",
    "def print_top_words(model, feature_names, n_top_words):\n",
    "    for topic_idx, topic in enumerate(model.components_):\n",
    "        print(\"Topic %d:\" % topic_idx)\n",
    "        print(\" \".join([feature_names[i] for i in topic.argsort()[:-n_top_words - 1:-1]]))"
   ]
  },
  {
   "cell_type": "code",
   "execution_count": 1870,
   "id": "59398362-01e8-4819-a429-dcf55c1d380e",
   "metadata": {
    "collapsed": true,
    "jupyter": {
     "outputs_hidden": true
    },
    "tags": []
   },
   "outputs": [
    {
     "data": {
      "text/plain": [
       "array(['abbie', 'absolute', 'absolutely', 'accomodating', 'actually',\n",
       "       'ad', 'adhoc', 'admire', 'advised', 'affordable', 'afternoon',\n",
       "       'aimane', 'akam', 'albeit', 'ale', 'alek', 'aleksandra',\n",
       "       'allaround', 'allowed', 'also', 'always', 'amazing', 'amazingf',\n",
       "       'amazining', 'ambiance', 'ambience', 'ambient', 'ambiente',\n",
       "       'american', 'andrea', 'anniversary', 'another', 'antique',\n",
       "       'anytime', 'apology', 'apres', 'architecture', 'arcitecture',\n",
       "       'area', 'arnaud', 'around', 'arrogant', 'asian', 'astonishingly',\n",
       "       'astray', 'ate', 'atmosphere', 'atmosphereretro', 'atmospheric',\n",
       "       'attentes', 'attentie', 'attentive', 'attitude', 'attitudedont',\n",
       "       'au', 'australia', 'authentic', 'aux', 'average', 'avoid', 'away',\n",
       "       'awesome', 'awful', 'back', 'bad', 'balconiesand', 'bank', 'bar',\n",
       "       'bardzo', 'bbq', 'beaten', 'beautiful', 'beautifully', 'beauty',\n",
       "       'became', 'becoming', 'beeeest', 'beer', 'behind', 'bercy',\n",
       "       'bercyvillage', 'best', 'beyond', 'bien', 'biere', 'big',\n",
       "       'bilingual', 'bir', 'birthday', 'bit', 'bite', 'blah', 'bland',\n",
       "       'blowing', 'blue', 'bonbon', 'bonne', 'book', 'booked', 'booking',\n",
       "       'boring', 'bother', 'bravo', 'brcy', 'break', 'breakfast', 'brew',\n",
       "       'brewery', 'brilliance', 'brilliant', 'britishstyle', 'broadcast',\n",
       "       'brunch', 'buffet', 'building', 'burger', 'burgerbeer', 'business',\n",
       "       'busy', 'buzzing', 'cadid', 'cafe', 'camara', 'cancelled',\n",
       "       'capsule', 'captivating', 'carbonara', 'carmen', 'cat',\n",
       "       'celebration', 'central', 'centre', 'cest', 'chana', 'changing',\n",
       "       'character', 'charm', 'charming', 'cheap', 'cheaper', 'check',\n",
       "       'cheer', 'cheese', 'cheesecake', 'chill', 'chilled', 'chip',\n",
       "       'choice', 'city', 'class', 'classic', 'classy', 'clean', 'clear',\n",
       "       'clothes', 'cockerel', 'cocktail', 'coctails', 'coffee', 'cold',\n",
       "       'coliseum', 'colleague', 'colonna', 'colorful', 'colourful',\n",
       "       'come', 'coments', 'comfortable', 'coming', 'commercial',\n",
       "       'compagnie', 'completed', 'completely', 'concept', 'concert',\n",
       "       'confirm', 'continues', 'contrast', 'cooking', 'cool', 'coolest',\n",
       "       'corner', 'correct', 'cosy', 'could', 'couldnt', 'country',\n",
       "       'couple', 'cour', 'course', 'courtyard', 'cozy', 'craft', 'crispy',\n",
       "       'crowded', 'crown', 'crowne', 'cruise', 'cuba', 'cuisine',\n",
       "       'culinary', 'customer', 'cute', 'damn', 'dancing', 'daughter',\n",
       "       'day', 'deal', 'decency', 'decent', 'deceptivecrooks', 'decor',\n",
       "       'decoration', 'definite', 'definitely', 'delectable', 'deli',\n",
       "       'delicioso', 'delicious', 'deliciously', 'delight', 'deserves',\n",
       "       'dessert', 'destination', 'detail', 'didnt', 'different',\n",
       "       'difficult', 'digest', 'dim', 'dime', 'dine', 'diner', 'dining',\n",
       "       'dinner', 'dino', 'dirty', 'disapointed', 'disappointed',\n",
       "       'disappointing', 'disappointment', 'disappointmentterrible',\n",
       "       'disaster', 'dish', 'dissapointed', 'dissapointing',\n",
       "       'dissappointing', 'diverse', 'dog', 'done', 'dont', 'dough',\n",
       "       'drink', 'du', 'due', 'dumpling', 'dumplingtastic', 'eat',\n",
       "       'eaterie', 'eating', 'elegant', 'ellen', 'else', 'emilion',\n",
       "       'emperor', 'en', 'end', 'engagement', 'englishspeaking', 'enjoy',\n",
       "       'enjoyed', 'environment', 'escorial', 'especially', 'esprance',\n",
       "       'essaouira', 'essouira', 'est', 'et', 'eu', 'european', 'eva',\n",
       "       'eve', 'evening', 'event', 'ever', 'every', 'everybody',\n",
       "       'everyone', 'everything', 'excelent', 'excellence', 'excellent',\n",
       "       'excellente', 'excellently', 'exceptional', 'exceptionally',\n",
       "       'exchange', 'exciting', 'exilent', 'exp', 'expectation',\n",
       "       'expected', 'expensive', 'expensivwe', 'experience', 'experiment',\n",
       "       'exquisite', 'fab', 'faberge', 'fabulous', 'factory', 'fair',\n",
       "       'family', 'fancy', 'fantastic', 'fantastico', 'far', 'fascinating',\n",
       "       'fast', 'favorite', 'favourite', 'feast', 'featuring', 'feedback',\n",
       "       'feeling', 'filling', 'final', 'find', 'fine', 'finer', 'fiona',\n",
       "       'first', 'fish', 'five', 'flair', 'fo', 'fod', 'food', 'foodie',\n",
       "       'foodreasonable', 'foodwow', 'foot', 'football', 'forget',\n",
       "       'former', 'found', 'four', 'france', 'frank', 'free', 'fresh',\n",
       "       'friday', 'friend', 'friendly', 'friendscolleagues', 'frog',\n",
       "       'frogbeer', 'full', 'fun', 'fundamental', 'funky', 'fusion',\n",
       "       'fuss', 'future', 'gave', 'gem', 'gennadiy', 'get', 'gg', 'giant',\n",
       "       'give', 'glad', 'glass', 'global', 'glory', 'gluten', 'go',\n",
       "       'going', 'gone', 'good', 'gorgeous', 'gourmand', 'graciousness',\n",
       "       'graham', 'greag', 'great', 'greta', 'grt', 'grub', 'guide',\n",
       "       'gustine', 'habana', 'half', 'haloumi', 'hang', 'hangout', 'happy',\n",
       "       'harbor', 'havana', 'heart', 'heaven', 'hell', 'helpful', 'hidden',\n",
       "       'high', 'highlight', 'highly', 'historic', 'historical', 'history',\n",
       "       'ho', 'hoc', 'hocad', 'hocd', 'hole', 'holiday', 'homebrewed',\n",
       "       'homemade', 'honeymoon', 'hospitality', 'hot', 'hour', 'hr',\n",
       "       'huge', 'hum', 'human', 'humiliating', 'husband', 'ideal', 'im',\n",
       "       'immediately', 'impress', 'impressive', 'improvement',\n",
       "       'incredible', 'indian', 'inedible', 'inept', 'inflexible',\n",
       "       'informal', 'innovative', 'innumerable', 'insane', 'interesting',\n",
       "       'intimate', 'intoxication', 'intriguing', 'inviting', 'ipa',\n",
       "       'isabelle', 'italian', 'italy', 'ive', 'jan', 'jewel', 'jewelwe',\n",
       "       'joint', 'joke', 'jos', 'journey', 'judo', 'kamienica', 'keep',\n",
       "       'kept', 'kick', 'kid', 'kind', 'kishnandu', 'kitchen', 'knuckle',\n",
       "       'la', 'lack', 'lactose', 'lamb', 'large', 'last', 'late', 'lazy',\n",
       "       'le', 'lea', 'least', 'led', 'left', 'leisure', 'lemonade', 'leo',\n",
       "       'let', 'level', 'lezzetli', 'life', 'light', 'lighting', 'like',\n",
       "       'list', 'little', 'lively', 'local', 'location', 'loft', 'lofty',\n",
       "       'loiter', 'look', 'looking', 'lost', 'lot', 'love', 'loved',\n",
       "       'loveliest', 'lovely', 'lover', 'low', 'luch', 'lucky', 'lunch',\n",
       "       'lunchtime', 'luxurious', 'made', 'madness', 'magic', 'magical',\n",
       "       'magnificent', 'magnifique', 'major', 'make', 'management',\n",
       "       'manager', 'many', 'mark', 'marocco', 'marta', 'marvelous',\n",
       "       'masala', 'match', 'mathieu', 'mattias', 'mazing', 'mdina', 'mea',\n",
       "       'meal', 'meat', 'medina', 'mediocre', 'meet', 'meilleure',\n",
       "       'memorable', 'memory', 'menu', 'merci', 'michelin', 'micro',\n",
       "       'microbrewery', 'midrange', 'mind', 'minority', 'miss', 'missed',\n",
       "       'mistake', 'mix', 'mixed', 'modern', 'moment', 'money', 'monkfish',\n",
       "       'mono', 'monocuisine', 'moroccan', 'morocco', 'mosaic', 'move',\n",
       "       'moving', 'mozzarella', 'mr', 'much', 'muggy', 'mum', 'museum',\n",
       "       'music', 'must', 'mysigt', 'name', 'natalia', 'national',\n",
       "       'nauseam', 'nd', 'near', 'neighbourhood', 'new', 'newly', 'nice',\n",
       "       'nickel', 'night', 'nina', 'nothing', 'notice', 'nourriture',\n",
       "       'november', 'occasion', 'octopus', 'offer', 'offering', 'office',\n",
       "       'officiant', 'oh', 'ojahwee', 'ok', 'okay', 'old', 'one', 'onto',\n",
       "       'option', 'organisation', 'organized', 'oscura', 'otherwise',\n",
       "       'outdoor', 'outlier', 'outside', 'outstanding', 'overall',\n",
       "       'overated', 'overpriced', 'overrated', 'overrenovated', 'pa',\n",
       "       'pace', 'pack', 'pairing', 'par', 'parc', 'party', 'pasta',\n",
       "       'pelmeni', 'pelmeny', 'pelmenya', 'pelmenys', 'pelmini', 'people',\n",
       "       'perfect', 'perfection', 'perfectly', 'perhaps', 'personal',\n",
       "       'personalized', 'personell', 'petersburg', 'petit', 'phenomenal',\n",
       "       'piazza', 'picked', 'pickpocketted', 'pig', 'pint', 'place',\n",
       "       'plate', 'plaza', 'pleasant', 'please', 'plenty', 'plus', 'point',\n",
       "       'poland', 'polish', 'polite', 'poor', 'popadoms', 'popolo',\n",
       "       'popular', 'pork', 'possible', 'possibly', 'post', 'pr', 'pre',\n",
       "       'preeyansh', 'presented', 'pretty', 'price', 'priced', 'pricegood',\n",
       "       'pricing', 'problem', 'provided', 'pub', 'punch', 'purandhar',\n",
       "       'pure', 'quaint', 'quality', 'quarantine', 'quartier', 'quick',\n",
       "       'quiet', 'quirky', 'quite', 'raccord', 'range', 'rarely', 'rated',\n",
       "       'rating', 'ravioli', 'rdinner', 'reading', 'real', 'really',\n",
       "       'reasonable', 'reasonably', 'recommend', 'recommended',\n",
       "       'refreshing', 'regarding', 'region', 'regrettable', 'regular',\n",
       "       'relation', 'relaxed', 'remarkable', 'remember', 'renovated',\n",
       "       'renovation', 'report', 'required', 'respite', 'restaurant',\n",
       "       'restaurantdelicious', 'restaurante', 'restoration', 'restored',\n",
       "       'restuarant', 'resturant', 'retaurant', 'retro', 'return',\n",
       "       'returned', 'review', 'revisited', 'ride', 'right', 'ripetta',\n",
       "       'ripoff', 'ripped', 'rock', 'rohini', 'rom', 'roman', 'romantic',\n",
       "       'rome', 'rotten', 'rubbish', 'rude', 'rudeness', 'ruined', 'run',\n",
       "       'russian', 'salmon', 'salty', 'satisfaction', 'scam', 'sculpture',\n",
       "       'sea', 'seafood', 'seeing', 'seep', 'selection', 'sens',\n",
       "       'seriously', 'served', 'server', 'service', 'serviceaverage',\n",
       "       'servicegreat', 'servicei', 'servjce', 'set', 'setting', 'several',\n",
       "       'shameful', 'share', 'shiv', 'shocked', 'shocking', 'shop',\n",
       "       'short', 'shot', 'shouldnt', 'simple', 'simply', 'sit', 'site',\n",
       "       'six', 'sixty', 'slay', 'slivovica', 'slow', 'smacznie', 'small',\n",
       "       'smiley', 'snack', 'snob', 'solo', 'something', 'somewhat', 'sooo',\n",
       "       'sorry', 'space', 'spb', 'speak', 'special', 'spectacular',\n",
       "       'spendy', 'spent', 'sport', 'sporting', 'spot', 'spread', 'square',\n",
       "       'squid', 'st', 'staff', 'stained', 'star', 'stara', 'start',\n",
       "       'starter', 'starting', 'state', 'stay', 'step', 'sterile', 'stick',\n",
       "       'still', 'stop', 'street', 'student', 'stunner', 'stunning',\n",
       "       'stunningly', 'style', 'stylish', 'subpar', 'substance',\n",
       "       'successful', 'suckling', 'sum', 'summer', 'sunday', 'super',\n",
       "       'superb', 'superrrrr', 'surpise', 'surprise', 'surprisingly',\n",
       "       'surrounded', 'surroundings', 'sympa', 'sympathique', 'ta',\n",
       "       'table', 'tagine', 'take', 'talk', 'talkno', 'tap', 'taste',\n",
       "       'tasteful', 'tastfull', 'tasting', 'tasty', 'team', 'term',\n",
       "       'terrace', 'terrasse', 'terrible', 'th', 'thank', 'thanks',\n",
       "       'thats', 'ther', 'therefore', 'thipaine', 'thirsty', 'thrilled',\n",
       "       'thumb', 'time', 'tiny', 'tiphaine', 'tired', 'top', 'totally',\n",
       "       'touch', 'tour', 'tourism', 'tourist', 'touristic', 'touristy',\n",
       "       'town', 'towne', 'track', 'traditional', 'tranquillit',\n",
       "       'transition', 'trap', 'travelling', 'treasure', 'treat', 'trendy',\n",
       "       'tried', 'trip', 'trs', 'truffle', 'truly', 'try', 'trying',\n",
       "       'twice', 'two', 'ula', 'unbelievable', 'uncomfortbale',\n",
       "       'understated', 'underwhelming', 'unexpected', 'unfortunately',\n",
       "       'unfriendly', 'unique', 'unnoticed', 'upender', 'usual', 'utterly',\n",
       "       'value', 'various', 'vatican', 'vegetarian', 'veggie', 'vendor',\n",
       "       'venue', 'verma', 'verre', 'vibe', 'vibeeee', 'vieja', 'view',\n",
       "       'village', 'visinom', 'visit', 'visited', 'vube', 'waiter',\n",
       "       'waiting', 'waitress', 'walk', 'walking', 'wannabe', 'wareniki',\n",
       "       'warm', 'warsaw', 'waste', 'watch', 'watched', 'watching',\n",
       "       'watering', 'way', 'weekend', 'welcome', 'welcoming', 'well',\n",
       "       'wellinformed', 'went', 'western', 'wetherspoons', 'weve', 'white',\n",
       "       'window', 'wine', 'winelovers', 'winesall', 'wish', 'witcher',\n",
       "       'woman', 'wonder', 'wonderful', 'wont', 'world', 'worst', 'worth',\n",
       "       'worthy', 'would', 'wow', 'wowowow', 'writing', 'xmas', 'yash',\n",
       "       'year', 'yedik', 'yemei', 'yes', 'yldnmmzde', 'york', 'yum',\n",
       "       'yummy', 'ziad'], dtype=object)"
      ]
     },
     "execution_count": 1870,
     "metadata": {},
     "output_type": "execute_result"
    }
   ],
   "source": [
    "vectorizer_title.get_feature_names_out()"
   ]
  },
  {
   "cell_type": "code",
   "execution_count": 1874,
   "id": "975cc14d-cd8d-4bf6-ac4c-e42ce884b32e",
   "metadata": {
    "tags": []
   },
   "outputs": [
    {
     "name": "stdout",
     "output_type": "stream",
     "text": [
      "Topic 0:\n",
      "great service food excellent staff fantastic breakfast square perfect beer\n",
      "Topic 1:\n",
      "food amazing delicious wonderful great place restaurant drink polish fabulous\n",
      "Topic 2:\n",
      "place great nice meal lovely food wine atmosphere experience super\n",
      "Topic 3:\n",
      "best dinner experience rome restaurant plaza dining amazing recommend gem\n",
      "Topic 4:\n",
      "good beer ad restaurant hoc evening lunch old disappointing pub\n"
     ]
    }
   ],
   "source": [
    "print_top_words(lda_title, tf_feature_names_title, 10)"
   ]
  },
  {
   "cell_type": "code",
   "execution_count": 1876,
   "id": "2b272f15-249c-4d8c-998c-735a0e8ed367",
   "metadata": {
    "tags": []
   },
   "outputs": [
    {
     "data": {
      "text/plain": [
       "array(['abbie', 'able', 'abound', ..., 'zucca', 'zucchini', 'zurek'],\n",
       "      dtype=object)"
      ]
     },
     "execution_count": 1876,
     "metadata": {},
     "output_type": "execute_result"
    }
   ],
   "source": [
    "vectorizer_content.get_feature_names_out()"
   ]
  },
  {
   "cell_type": "code",
   "execution_count": 1888,
   "id": "b4ff3421-2121-4dba-9635-2f0ac8b7c7ea",
   "metadata": {
    "tags": []
   },
   "outputs": [],
   "source": [
    "tf_feature_names_content = vectorizer_content.get_feature_names_out()"
   ]
  },
  {
   "cell_type": "code",
   "execution_count": 1890,
   "id": "46007aee-5606-4d6a-8cd5-1c42d47bf56f",
   "metadata": {
    "collapsed": true,
    "jupyter": {
     "outputs_hidden": true
    },
    "tags": []
   },
   "outputs": [
    {
     "name": "stdout",
     "output_type": "stream",
     "text": [
      "Topic 0:\n",
      "restaurant food would waiter time course good night starter ordered\n",
      "Topic 1:\n",
      "waitress one restaurant really lobster table time like served food\n",
      "Topic 2:\n",
      "food excellent would good restaurant nice place small well people\n",
      "Topic 3:\n",
      "menu building place many go know english de think hubby\n",
      "Topic 4:\n",
      "food place good menu roman cool one table cold none\n",
      "Topic 5:\n",
      "time service super bar de pierogi drink recommend thanks old\n",
      "Topic 6:\n",
      "food great restaurant service really good polish like dish ever\n",
      "Topic 7:\n",
      "table never help made reservation truffle gave get got back\n",
      "Topic 8:\n",
      "potato meal bill frozen bone nice preeyansh good chip night\n",
      "Topic 9:\n",
      "food meal restaurant eat dish tour back staff superb lovely\n",
      "Topic 10:\n",
      "food good lovely service traditional beautiful like time place meal\n",
      "Topic 11:\n",
      "food staff good dish restaurant taste table wine course night\n",
      "Topic 12:\n",
      "delicious essaouira fresh avocado crab friendly food starter lovely music\n",
      "Topic 13:\n",
      "bar place menu restaurant building abbie staff terrific fashion old\n",
      "Topic 14:\n",
      "course told would way eating taster eat fill menu walk\n",
      "Topic 15:\n",
      "polish delicious traditional food nice service restaurant place good also\n",
      "Topic 16:\n",
      "restaurant food good one best nice rome staff ad went\n",
      "Topic 17:\n",
      "great food service amazing place restaurant friendly delicious fish music\n",
      "Topic 18:\n",
      "couple restaurant check food disappointed corner beautiful one walked coming\n",
      "Topic 19:\n",
      "place good one time evening well service see restaurant night\n",
      "Topic 20:\n",
      "drink place food lovely minute visit watch even attentive arrived\n",
      "Topic 21:\n",
      "music live best ever well like cool reasonably place ive\n",
      "Topic 22:\n",
      "food good menu left wine truffle staff well simply ordered\n",
      "Topic 23:\n",
      "truffle restaurant bar summer beautiful fresh best note wall kindness\n",
      "Topic 24:\n",
      "wine food service menu restaurant hour main time good price\n",
      "Topic 25:\n",
      "wine menu restaurant rome ad hoc truffle food service tasting\n",
      "Topic 26:\n",
      "wine better could restaurant took good minute although left service\n",
      "Topic 27:\n",
      "food restaurant nice overall good pub france took like didnt\n",
      "Topic 28:\n",
      "dumpling place russian good pelmeni menu restaurant one english try\n",
      "Topic 29:\n",
      "wine food menu restaurant table staff recommend happy could tasting\n",
      "Topic 30:\n",
      "dumpling delicious great wine try cuisine taste better tidy drink\n",
      "Topic 31:\n",
      "food service restaurant good minute even waitress italian rome hour\n",
      "Topic 32:\n",
      "good food service atmosphere great nice place thank excellent tasty\n",
      "Topic 33:\n",
      "english place food good service frog beer france great pub\n",
      "Topic 34:\n",
      "lovely walked dish restaurant think terrible soon attitude much ive\n",
      "Topic 35:\n",
      "great food service good nice place beer really friendly time\n",
      "Topic 36:\n",
      "restaurant food wine table experience good best everything asked far\n",
      "Topic 37:\n",
      "food service good restaurant great bad even wine meal well\n",
      "Topic 38:\n",
      "delicious great food breakfast service good fresh upender beef amazing\n",
      "Topic 39:\n",
      "good food service restaurant nice ambience one day went ok\n",
      "Topic 40:\n",
      "food restaurant decor great menu could day staff meal essaouira\n",
      "Topic 41:\n",
      "time day food wine rome drink served course abbie fine\n",
      "Topic 42:\n",
      "menu said go table waitress like would italian glass local\n",
      "Topic 43:\n",
      "food restaurant place menu experience great one far notch plate\n",
      "Topic 44:\n",
      "server table came time minute meal de menu really restaurant\n",
      "Topic 45:\n",
      "place night pm made husband restaurant reservation would last people\n",
      "Topic 46:\n",
      "square havana old plaza people around vieja architecture many street\n",
      "Topic 47:\n",
      "meal anything without rotten kitchen course pretty problem came fairly\n",
      "Topic 48:\n",
      "hour one ham told took starter serrano even really slow\n",
      "Topic 49:\n",
      "menu restaurant food wine tasting service rome time many cold\n"
     ]
    }
   ],
   "source": [
    "print_top_words(lda_content, tf_feature_names_content, 10)"
   ]
  },
  {
   "cell_type": "markdown",
   "id": "a337ce0f-2afe-422f-8e9d-beddd5635093",
   "metadata": {},
   "source": [
    "### Problem 6. Deep sentiment analysis models (1 point)\n",
    "Find a suitable model for sentiment analysis in English. Without modifying, training, or fine-tuning the model, make it predict all contents (or better, combinations of titles and contents, if you can). Meaure the accuracy of the model compared to the `sentiment` column in the dataset."
   ]
  },
  {
   "cell_type": "code",
   "execution_count": 1898,
   "id": "9292c210-ec5f-4738-8a6e-926345952848",
   "metadata": {
    "tags": []
   },
   "outputs": [
    {
     "name": "stderr",
     "output_type": "stream",
     "text": [
      "[nltk_data] Downloading package vader_lexicon to\n",
      "[nltk_data]     /Users/miroslavamalkovska/nltk_data...\n"
     ]
    },
    {
     "data": {
      "text/plain": [
       "True"
      ]
     },
     "execution_count": 1898,
     "metadata": {},
     "output_type": "execute_result"
    }
   ],
   "source": [
    "nltk.download('vader_lexicon')"
   ]
  },
  {
   "cell_type": "code",
   "execution_count": 1900,
   "id": "97b4bd22-7374-4d62-8f0f-21d339618636",
   "metadata": {
    "tags": []
   },
   "outputs": [],
   "source": [
    "# Combine title and content into one text column for analysis\n",
    "\n",
    "restaurant_data[\"text\"] = restaurant_data[\"title_tokens_fit\"].fillna(\"\") + \" \" + restaurant_data[\"review_tokens_fit\"].fillna(\"\")"
   ]
  },
  {
   "cell_type": "code",
   "execution_count": 1902,
   "id": "5e73fd04-3b4f-404c-818c-769a8b3d19e2",
   "metadata": {
    "tags": []
   },
   "outputs": [],
   "source": [
    "# Initialize VADER sentiment intensity analyzer\n",
    "\n",
    "sia = SentimentIntensityAnalyzer()"
   ]
  },
  {
   "cell_type": "code",
   "execution_count": 1913,
   "id": "914e1fff-b938-4122-9f26-c34a2eadaf00",
   "metadata": {
    "tags": []
   },
   "outputs": [],
   "source": [
    "# Function to get sentiment polarity using VADER\n",
    "\n",
    "def get_sentiment(text):\n",
    "    score = sia.polarity_scores(text)[\"compound\"]\n",
    "    # VADER returns a 'compound' score between -1 (negative) and 1 (positive)\n",
    "    # Let's assume score > 0 is positive, <= 0 is negative\n",
    "    return \"Positive\" if score > 0 else \"Negative\""
   ]
  },
  {
   "cell_type": "code",
   "execution_count": 1915,
   "id": "97bfaa80-cf92-4974-a3db-b44fc793bcf8",
   "metadata": {
    "tags": []
   },
   "outputs": [],
   "source": [
    "# Predict sentiments\n",
    "\n",
    "restaurant_data[\"predicted_sentiment\"] = restaurant_data[\"text\"].apply(get_sentiment)"
   ]
  },
  {
   "cell_type": "code",
   "execution_count": 1917,
   "id": "7d1c0711-98ac-4646-b384-584c32715165",
   "metadata": {
    "tags": []
   },
   "outputs": [
    {
     "data": {
      "text/plain": [
       "0       Negative\n",
       "1       Negative\n",
       "2       Positive\n",
       "3       Positive\n",
       "4       Negative\n",
       "          ...   \n",
       "1497    Positive\n",
       "1498    Positive\n",
       "1499    Negative\n",
       "1500    Positive\n",
       "1501    Negative\n",
       "Name: predicted_sentiment, Length: 1502, dtype: object"
      ]
     },
     "execution_count": 1917,
     "metadata": {},
     "output_type": "execute_result"
    }
   ],
   "source": [
    "restaurant_data[\"predicted_sentiment\"]"
   ]
  },
  {
   "cell_type": "code",
   "execution_count": 1919,
   "id": "0af71bd2-b826-477e-8592-9c8b87dbf240",
   "metadata": {
    "tags": []
   },
   "outputs": [
    {
     "name": "stdout",
     "output_type": "stream",
     "text": [
      "Accuracy: 0.8768308921438083\n"
     ]
    }
   ],
   "source": [
    "# Measure accuracy\n",
    "\n",
    "accuracy = accuracy_score(restaurant_data[\"sentiment\"], restaurant_data[\"predicted_sentiment\"])\n",
    "print(f\"Accuracy: {accuracy}\")"
   ]
  },
  {
   "cell_type": "markdown",
   "id": "773d804d-9c83-48ec-be2b-8564d73d908c",
   "metadata": {},
   "source": [
    "### Problem 7. Deep features (embeddings) (1 point)\n",
    "Use the same model to perform feature extraction on the review contents (or contents + titles) instead of direct predictions. You should already be familiar how to do that from your work on images.\n",
    "\n",
    "Use the cosine similarity between texts to try to cluster them. Are there \"similar\" reviews (you'll need to find a way to measure similarity) across different restaurants? Are customers generally in agreement for the same restaurant?"
   ]
  },
  {
   "cell_type": "code",
   "execution_count": 1929,
   "id": "f732c764-2ef0-4da2-a662-f8cd7b684245",
   "metadata": {
    "tags": []
   },
   "outputs": [],
   "source": [
    "# Feature extraction using TF-IDF\n",
    "\n",
    "vectorizer = TfidfVectorizer(stop_words=\"english\")\n",
    "tfidf_matrix = vectorizer.fit_transform(restaurant_data[\"text\"])"
   ]
  },
  {
   "cell_type": "code",
   "execution_count": 1931,
   "id": "d63e0166-fbe0-4bb5-a95c-1c197124c84d",
   "metadata": {
    "tags": []
   },
   "outputs": [],
   "source": [
    "# Compute cosine similarity matrix\n",
    "\n",
    "cosine_sim_matrix = cosine_similarity(tfidf_matrix, tfidf_matrix)"
   ]
  },
  {
   "cell_type": "code",
   "execution_count": 1957,
   "id": "b74e865a-e2ba-4799-8e67-9231fd3d6c60",
   "metadata": {
    "tags": []
   },
   "outputs": [
    {
     "data": {
      "image/png": "[encoded data removed]",
      "text/plain": [
       "<Figure size 600x400 with 2 Axes>"
      ]
     },
     "metadata": {},
     "output_type": "display_data"
    }
   ],
   "source": [
    "# Display the cosine similarity matrix as a heatmap\n",
    "\n",
    "plt.figure(figsize=(6, 4))\n",
    "sns.heatmap(cosine_sim_matrix, cmap=\"Paired\")\n",
    "plt.title(\"Cosine similarity of reviews\")\n",
    "plt.xlabel(\"Reviews\")\n",
    "plt.ylabel(\"Reviews\")\n",
    "plt.show()"
   ]
  },
  {
   "cell_type": "code",
   "execution_count": 1959,
   "id": "969e640b-5d35-43ff-bdbf-72cf4fa238b4",
   "metadata": {
    "tags": []
   },
   "outputs": [],
   "source": [
    "# Function to find similar reviews based on cosine similarity\n",
    "\n",
    "def find_similar_reviews(cosine_sim_matrix, threshold=0.5):\n",
    "    similar_reviews = []\n",
    "    for i in range(len(cosine_sim_matrix)):\n",
    "        for j in range(i + 1, len(cosine_sim_matrix)):\n",
    "            if cosine_sim_matrix[i, j] > threshold:\n",
    "                similar_reviews.append((i, j, cosine_sim_matrix[i, j]))\n",
    "    return similar_reviews"
   ]
  },
  {
   "cell_type": "code",
   "execution_count": 1965,
   "id": "99adde6f-2323-4d96-9fa7-3fc6a608ab43",
   "metadata": {
    "tags": []
   },
   "outputs": [
    {
     "name": "stdout",
     "output_type": "stream",
     "text": [
      "Number of similar reviews: 162\n",
      "Review 105 and Review 130 - Similarity: 1.0\n",
      "Review 105 and Review 522 - Similarity: 1.0\n",
      "Review 105 and Review 545 - Similarity: 1.0\n",
      "Review 106 and Review 131 - Similarity: 1.0000000000000002\n",
      "Review 106 and Review 523 - Similarity: 1.0000000000000002\n",
      "Review 106 and Review 546 - Similarity: 1.0000000000000002\n",
      "Review 107 and Review 132 - Similarity: 1.0\n",
      "Review 107 and Review 524 - Similarity: 1.0\n",
      "Review 107 and Review 547 - Similarity: 1.0\n",
      "Review 108 and Review 133 - Similarity: 1.0000000000000002\n"
     ]
    }
   ],
   "source": [
    "# Find similar reviews with a threshold for similarity\n",
    "# There are a lot of similar reviews \n",
    "\n",
    "similar_reviews = find_similar_reviews(cosine_sim_matrix, threshold=0.5)\n",
    "print(f\"Number of similar reviews: {len(similar_reviews)}\")\n",
    "for review_pair in similar_reviews[:10]:  # Print the first 10 pairs\n",
    "    print(f\"Review {review_pair[0]} and Review {review_pair[1]} - Similarity: {review_pair[2]}\")"
   ]
  },
  {
   "cell_type": "code",
   "execution_count": 1988,
   "id": "dec99c5a-c43b-43f1-83f3-2df0c07a9661",
   "metadata": {
    "tags": []
   },
   "outputs": [],
   "source": [
    "# Find similar reviews based on cosine similarity with provided text\n",
    "\n",
    "def find_similar_reviews(cosine_sim_matrix, data, threshold=0.5):\n",
    "    similar_reviews = []\n",
    "    for i in range(len(cosine_sim_matrix)):\n",
    "        for j in range(i + 1, len(cosine_sim_matrix)):\n",
    "            if cosine_sim_matrix[i, j] > threshold:\n",
    "                similar_reviews.append((i, j, cosine_sim_matrix[i, j], data.iloc[i][\"text\"], data.iloc[j][\"text\"]))\n",
    "    return similar_reviews"
   ]
  },
  {
   "cell_type": "code",
   "execution_count": 1971,
   "id": "26536474-a202-4fe4-b4d8-9604927e8669",
   "metadata": {
    "collapsed": true,
    "jupyter": {
     "outputs_hidden": true
    },
    "tags": []
   },
   "outputs": [
    {
     "name": "stdout",
     "output_type": "stream",
     "text": [
      "Number of similar reviews: 162\n",
      "Review 105 and Review 130 - Similarity: 1.0\n",
      "Review 105 Text: pretty dissappointing actually never write review restaurant one reason decided check place high rating ta still dissapointed choice weve madeour dinner place waswell right word would blah always dined wonderful place visiting rome ad hoc atmosphere average way seated people made uncomfortable even think dress one even think u r italy casual reminded coffee shop dont anything bad say service table nothing good either really big truffle menu evening lot thing lot choose wine list great tho see manager floor grumpy eastern european looking man noticeable owefully loud woman given recipe guest next u throughout entire dinner employee thought owner really loud point wanted ask tune little food eatable nothing write home till got cream brle instead nice chilled inside brown crispy top got hot plate sprinckled sugar top guess put microwave instead right way course didnt touch asked check one even asked something wrong complaint wanted forget owefull experience top position ta list restaurant rome making sad\n",
      "Review 130 Text: pretty dissappointing actually never write review restaurant one reason decided check place high rating ta still dissapointed choice weve madeour dinner place waswell right word would blah always dined wonderful place visiting rome ad hoc atmosphere average way seated people made uncomfortable even think dress one even think u r italy casual reminded coffee shop dont anything bad say service table nothing good either really big truffle menu evening lot thing lot choose wine list great tho see manager floor grumpy eastern european looking man noticeable owefully loud woman given recipe guest next u throughout entire dinner employee thought owner really loud point wanted ask tune little food eatable nothing write home till got cream brle instead nice chilled inside brown crispy top got hot plate sprinckled sugar top guess put microwave instead right way course didnt touch asked check one even asked something wrong complaint wanted forget owefull experience top position ta list restaurant rome making sad\n",
      "\n",
      "Review 105 and Review 522 - Similarity: 1.0\n",
      "Review 105 Text: pretty dissappointing actually never write review restaurant one reason decided check place high rating ta still dissapointed choice weve madeour dinner place waswell right word would blah always dined wonderful place visiting rome ad hoc atmosphere average way seated people made uncomfortable even think dress one even think u r italy casual reminded coffee shop dont anything bad say service table nothing good either really big truffle menu evening lot thing lot choose wine list great tho see manager floor grumpy eastern european looking man noticeable owefully loud woman given recipe guest next u throughout entire dinner employee thought owner really loud point wanted ask tune little food eatable nothing write home till got cream brle instead nice chilled inside brown crispy top got hot plate sprinckled sugar top guess put microwave instead right way course didnt touch asked check one even asked something wrong complaint wanted forget owefull experience top position ta list restaurant rome making sad\n",
      "Review 522 Text: pretty dissappointing actually never write review restaurant one reason decided check place high rating ta still dissapointed choice weve madeour dinner place waswell right word would blah always dined wonderful place visiting rome ad hoc atmosphere average way seated people made uncomfortable even think dress one even think u r italy casual reminded coffee shop dont anything bad say service table nothing good either really big truffle menu evening lot thing lot choose wine list great tho see manager floor grumpy eastern european looking man noticeable owefully loud woman given recipe guest next u throughout entire dinner employee thought owner really loud point wanted ask tune little food eatable nothing write home till got cream brle instead nice chilled inside brown crispy top got hot plate sprinckled sugar top guess put microwave instead right way course didnt touch asked check one even asked something wrong complaint wanted forget owefull experience top position ta list restaurant rome making sad\n",
      "\n",
      "Review 105 and Review 545 - Similarity: 1.0\n",
      "Review 105 Text: pretty dissappointing actually never write review restaurant one reason decided check place high rating ta still dissapointed choice weve madeour dinner place waswell right word would blah always dined wonderful place visiting rome ad hoc atmosphere average way seated people made uncomfortable even think dress one even think u r italy casual reminded coffee shop dont anything bad say service table nothing good either really big truffle menu evening lot thing lot choose wine list great tho see manager floor grumpy eastern european looking man noticeable owefully loud woman given recipe guest next u throughout entire dinner employee thought owner really loud point wanted ask tune little food eatable nothing write home till got cream brle instead nice chilled inside brown crispy top got hot plate sprinckled sugar top guess put microwave instead right way course didnt touch asked check one even asked something wrong complaint wanted forget owefull experience top position ta list restaurant rome making sad\n",
      "Review 545 Text: pretty dissappointing actually never write review restaurant one reason decided check place high rating ta still dissapointed choice weve madeour dinner place waswell right word would blah always dined wonderful place visiting rome ad hoc atmosphere average way seated people made uncomfortable even think dress one even think u r italy casual reminded coffee shop dont anything bad say service table nothing good either really big truffle menu evening lot thing lot choose wine list great tho see manager floor grumpy eastern european looking man noticeable owefully loud woman given recipe guest next u throughout entire dinner employee thought owner really loud point wanted ask tune little food eatable nothing write home till got cream brle instead nice chilled inside brown crispy top got hot plate sprinckled sugar top guess put microwave instead right way course didnt touch asked check one even asked something wrong complaint wanted forget owefull experience top position ta list restaurant rome making sad\n",
      "\n",
      "Review 106 and Review 131 - Similarity: 1.0000000000000002\n",
      "Review 106 Text: sorry im afraid let restaurant left standing door minute seated decided tasting menu land wine although given glass prosecco shown table took minute served food asparagus roulade overcooked ravioli rabbit ragout salty ad hoc gnocchi hard corner could made better sugo saltimbocca alla romana tasted like reconstituted meat roll tiramisu waterery tasteless service fauning pretentious although left alot plate uneaten never asked dessert finally leaving given cheap bottle spumante brown paper bag take away positive wine good took almost hour would recommend restaurant absolutely dont waste time money far better place eat rome\n",
      "Review 131 Text: sorry im afraid let restaurant left standing door minute seated decided tasting menu land wine although given glass prosecco shown table took minute served food asparagus roulade overcooked ravioli rabbit ragout salty ad hoc gnocchi hard corner could made better sugo saltimbocca alla romana tasted like reconstituted meat roll tiramisu waterery tasteless service fauning pretentious although left alot plate uneaten never asked dessert finally leaving given cheap bottle spumante brown paper bag take away positive wine good took almost hour would recommend restaurant absolutely dont waste time money far better place eat rome\n",
      "\n",
      "Review 106 and Review 523 - Similarity: 1.0000000000000002\n",
      "Review 106 Text: sorry im afraid let restaurant left standing door minute seated decided tasting menu land wine although given glass prosecco shown table took minute served food asparagus roulade overcooked ravioli rabbit ragout salty ad hoc gnocchi hard corner could made better sugo saltimbocca alla romana tasted like reconstituted meat roll tiramisu waterery tasteless service fauning pretentious although left alot plate uneaten never asked dessert finally leaving given cheap bottle spumante brown paper bag take away positive wine good took almost hour would recommend restaurant absolutely dont waste time money far better place eat rome\n",
      "Review 523 Text: sorry im afraid let restaurant left standing door minute seated decided tasting menu land wine although given glass prosecco shown table took minute served food asparagus roulade overcooked ravioli rabbit ragout salty ad hoc gnocchi hard corner could made better sugo saltimbocca alla romana tasted like reconstituted meat roll tiramisu waterery tasteless service fauning pretentious although left alot plate uneaten never asked dessert finally leaving given cheap bottle spumante brown paper bag take away positive wine good took almost hour would recommend restaurant absolutely dont waste time money far better place eat rome\n",
      "\n",
      "Review 106 and Review 546 - Similarity: 1.0000000000000002\n",
      "Review 106 Text: sorry im afraid let restaurant left standing door minute seated decided tasting menu land wine although given glass prosecco shown table took minute served food asparagus roulade overcooked ravioli rabbit ragout salty ad hoc gnocchi hard corner could made better sugo saltimbocca alla romana tasted like reconstituted meat roll tiramisu waterery tasteless service fauning pretentious although left alot plate uneaten never asked dessert finally leaving given cheap bottle spumante brown paper bag take away positive wine good took almost hour would recommend restaurant absolutely dont waste time money far better place eat rome\n",
      "Review 546 Text: sorry im afraid let restaurant left standing door minute seated decided tasting menu land wine although given glass prosecco shown table took minute served food asparagus roulade overcooked ravioli rabbit ragout salty ad hoc gnocchi hard corner could made better sugo saltimbocca alla romana tasted like reconstituted meat roll tiramisu waterery tasteless service fauning pretentious although left alot plate uneaten never asked dessert finally leaving given cheap bottle spumante brown paper bag take away positive wine good took almost hour would recommend restaurant absolutely dont waste time money far better place eat rome\n",
      "\n",
      "Review 107 and Review 132 - Similarity: 1.0\n",
      "Review 107 Text: rotten starter apology otherwise ok albeit overpriced u ate christmas day ad hoc seated seperate area initally thought would good ended meaning ignored one startes came cut pasta dumping clear rotten rotten fish fairly easy detect asked waitress removed plate without saying anything main course came brought another starter without rotten crab inside fairly empty still apology aunt eaten piece realising anything wrong pretty upset rest meal ok expensive service continued pretty patchy werent offered anything bill dessert say sorry really disappointed\n",
      "Review 132 Text: rotten starter apology otherwise ok albeit overpriced u ate christmas day ad hoc seated seperate area initally thought would good ended meaning ignored one startes came cut pasta dumping clear rotten rotten fish fairly easy detect asked waitress removed plate without saying anything main course came brought another starter without rotten crab inside fairly empty still apology aunt eaten piece realising anything wrong pretty upset rest meal ok expensive service continued pretty patchy werent offered anything bill dessert say sorry really disappointed\n",
      "\n",
      "Review 107 and Review 524 - Similarity: 1.0\n",
      "Review 107 Text: rotten starter apology otherwise ok albeit overpriced u ate christmas day ad hoc seated seperate area initally thought would good ended meaning ignored one startes came cut pasta dumping clear rotten rotten fish fairly easy detect asked waitress removed plate without saying anything main course came brought another starter without rotten crab inside fairly empty still apology aunt eaten piece realising anything wrong pretty upset rest meal ok expensive service continued pretty patchy werent offered anything bill dessert say sorry really disappointed\n",
      "Review 524 Text: rotten starter apology otherwise ok albeit overpriced u ate christmas day ad hoc seated seperate area initally thought would good ended meaning ignored one startes came cut pasta dumping clear rotten rotten fish fairly easy detect asked waitress removed plate without saying anything main course came brought another starter without rotten crab inside fairly empty still apology aunt eaten piece realising anything wrong pretty upset rest meal ok expensive service continued pretty patchy werent offered anything bill dessert say sorry really disappointed\n",
      "\n",
      "Review 107 and Review 547 - Similarity: 1.0\n",
      "Review 107 Text: rotten starter apology otherwise ok albeit overpriced u ate christmas day ad hoc seated seperate area initally thought would good ended meaning ignored one startes came cut pasta dumping clear rotten rotten fish fairly easy detect asked waitress removed plate without saying anything main course came brought another starter without rotten crab inside fairly empty still apology aunt eaten piece realising anything wrong pretty upset rest meal ok expensive service continued pretty patchy werent offered anything bill dessert say sorry really disappointed\n",
      "Review 547 Text: rotten starter apology otherwise ok albeit overpriced u ate christmas day ad hoc seated seperate area initally thought would good ended meaning ignored one startes came cut pasta dumping clear rotten rotten fish fairly easy detect asked waitress removed plate without saying anything main course came brought another starter without rotten crab inside fairly empty still apology aunt eaten piece realising anything wrong pretty upset rest meal ok expensive service continued pretty patchy werent offered anything bill dessert say sorry really disappointed\n",
      "\n",
      "Review 108 and Review 133 - Similarity: 1.0000000000000002\n",
      "Review 108 Text: overrated bad service walked ressie empty restaurant one couple jammed u corner next asked move said check absurd moved u begrudgingly watched couple get treatment like food disappointed\n",
      "Review 133 Text: overrated bad service walked ressie empty restaurant one couple jammed u corner next asked move said check absurd moved u begrudgingly watched couple get treatment like food disappointed\n",
      "\n"
     ]
    }
   ],
   "source": [
    "# Find similar reviews with a threshold for similarity\n",
    "\n",
    "similar_reviews = find_similar_reviews(cosine_sim_matrix, restaurant_data, threshold=0.5)\n",
    "print(f\"Number of similar reviews: {len(similar_reviews)}\")\n",
    "for review_pair in similar_reviews[:10]:  \n",
    "    print(f\"Review {review_pair[0]} and Review {review_pair[1]} - Similarity: {review_pair[2]}\")\n",
    "    print(f\"Review {review_pair[0]} Text: {review_pair[3]}\")\n",
    "    print(f\"Review {review_pair[1]} Text: {review_pair[4]}\\n\")"
   ]
  },
  {
   "cell_type": "code",
   "execution_count": 1984,
   "id": "1121331b-a77f-4862-8ba1-20505bfa0c8b",
   "metadata": {
    "tags": []
   },
   "outputs": [],
   "source": [
    "# Analysis to determine if customers are in agreement for the same restaurant\n",
    "\n",
    "def agreement_analysis(restaurant_data, similar_reviews):\n",
    "    agreement = {}\n",
    "    for i, j, _, _, _ in similar_reviews:\n",
    "        restaurant_i = restaurant_data.iloc[i]['restaurant_name']\n",
    "        restaurant_j = restaurant_data.iloc[j]['restaurant_name']\n",
    "        if restaurant_i == restaurant_j:\n",
    "            if restaurant_i not in agreement:\n",
    "                agreement[restaurant_i] = 0\n",
    "            agreement[restaurant_i] += 1\n",
    "    return agreement"
   ]
  },
  {
   "cell_type": "code",
   "execution_count": 1986,
   "id": "0963c004-e757-4fac-a2e1-9b73bc3a25d5",
   "metadata": {
    "tags": []
   },
   "outputs": [
    {
     "name": "stdout",
     "output_type": "stream",
     "text": [
      "Customer agreement across restaurants: {'The Frog at Bercy Village': 28, 'Ad Hoc Ristorante (Piazza del Popolo)': 23, 'Stara Kamienica': 1, 'Mosaic': 3, 'Old Square (Plaza Vieja)': 14}\n"
     ]
    }
   ],
   "source": [
    "agreement = agreement_analysis(restaurant_data, similar_reviews)\n",
    "print(f\"Customer agreement across restaurants: {agreement}\")"
   ]
  }
 ],
 "metadata": {
  "kernelspec": {
   "display_name": "Python 3 (ipykernel)",
   "language": "python",
   "name": "python3"
  },
  "language_info": {
   "codemirror_mode": {
    "name": "ipython",
    "version": 3
   },
   "file_extension": ".py",
   "mimetype": "text/x-python",
   "name": "python",
   "nbconvert_exporter": "python",
   "pygments_lexer": "ipython3",
   "version": "3.11.7"
  }
 },
 "nbformat": 4,
 "nbformat_minor": 5
}
